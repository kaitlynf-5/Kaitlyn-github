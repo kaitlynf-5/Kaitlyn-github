{
 "cells": [
  {
   "cell_type": "markdown",
   "metadata": {
    "collapsed": true
   },
   "source": [
    "# Answering Business Questions for a Digital Media Store Using SQL"
   ]
  },
  {
   "cell_type": "markdown",
   "metadata": {},
   "source": [
    "## Introduction\n",
    "In this project we'll be answering business questions using the \"Chinook\" data model which represents a digital media store, and contains tables for artists, albums, media tracks, invoices and customers. Media related data was created using real data from an iTunes Library. Customer and employee information was manually created using fictitious names, addresses that can be located on Google maps, and other well formatted data (phone, fax, email, etc.). Sales information is auto generated using random data for a four year period.\n",
    "\n",
    "\n",
    "## Getting Started\n",
    "We'll use the following code to connect our Jupyter Notebook to our database file."
   ]
  },
  {
   "cell_type": "code",
   "execution_count": 1,
   "metadata": {
    "collapsed": false
   },
   "outputs": [
    {
     "data": {
      "text/plain": [
       "'Connected: None@chinook.db'"
      ]
     },
     "execution_count": 1,
     "metadata": {},
     "output_type": "execute_result"
    }
   ],
   "source": [
    "%%capture\n",
    "%load_ext sql\n",
    "%sql sqlite:///chinook.db"
   ]
  },
  {
   "cell_type": "markdown",
   "metadata": {},
   "source": [
    "Let's start by getting familiar with our data."
   ]
  },
  {
   "cell_type": "code",
   "execution_count": 2,
   "metadata": {
    "collapsed": false
   },
   "outputs": [
    {
     "name": "stdout",
     "output_type": "stream",
     "text": [
      "Done.\n"
     ]
    },
    {
     "data": {
      "text/html": [
       "<table>\n",
       "    <tr>\n",
       "        <th>name</th>\n",
       "        <th>type</th>\n",
       "    </tr>\n",
       "    <tr>\n",
       "        <td>album</td>\n",
       "        <td>table</td>\n",
       "    </tr>\n",
       "    <tr>\n",
       "        <td>artist</td>\n",
       "        <td>table</td>\n",
       "    </tr>\n",
       "    <tr>\n",
       "        <td>customer</td>\n",
       "        <td>table</td>\n",
       "    </tr>\n",
       "    <tr>\n",
       "        <td>employee</td>\n",
       "        <td>table</td>\n",
       "    </tr>\n",
       "    <tr>\n",
       "        <td>genre</td>\n",
       "        <td>table</td>\n",
       "    </tr>\n",
       "    <tr>\n",
       "        <td>invoice</td>\n",
       "        <td>table</td>\n",
       "    </tr>\n",
       "    <tr>\n",
       "        <td>invoice_line</td>\n",
       "        <td>table</td>\n",
       "    </tr>\n",
       "    <tr>\n",
       "        <td>media_type</td>\n",
       "        <td>table</td>\n",
       "    </tr>\n",
       "    <tr>\n",
       "        <td>playlist</td>\n",
       "        <td>table</td>\n",
       "    </tr>\n",
       "    <tr>\n",
       "        <td>playlist_track</td>\n",
       "        <td>table</td>\n",
       "    </tr>\n",
       "    <tr>\n",
       "        <td>track</td>\n",
       "        <td>table</td>\n",
       "    </tr>\n",
       "</table>"
      ],
      "text/plain": [
       "[('album', 'table'),\n",
       " ('artist', 'table'),\n",
       " ('customer', 'table'),\n",
       " ('employee', 'table'),\n",
       " ('genre', 'table'),\n",
       " ('invoice', 'table'),\n",
       " ('invoice_line', 'table'),\n",
       " ('media_type', 'table'),\n",
       " ('playlist', 'table'),\n",
       " ('playlist_track', 'table'),\n",
       " ('track', 'table')]"
      ]
     },
     "execution_count": 2,
     "metadata": {},
     "output_type": "execute_result"
    }
   ],
   "source": [
    "%%sql\n",
    "SELECT name,\n",
    "       type\n",
    "  FROM sqlite_master\n",
    " WHERE type IN (\"table\",\"view\");"
   ]
  },
  {
   "cell_type": "markdown",
   "metadata": {},
   "source": [
    "The table `employee` contains personal information on employees like their name, address, and position. Employees have employee ID's that are used to link them to the customers they service in the table `customer`. The `customer` table also contains personal information about customers like their names, addresses, and a customer ID that links to the table `invoice`. `Invoice` details billing information for customers, including their invoice total and invoice ID. A single invoice can contain multiple tracks purchased by a customer, the details of which are in the `invoice_line` table which contains invoice_line IDs. The `invoice_line` table also gives us a track ID that can be used to look up the details of the tracks purchased, like the artist ID, album ID, & length of song in the `track` table. Tracks can be composed into a playlist. The `playlist_track` table contains playlist IDs and the track ID's of the songs in each playlist. The table `playlist` contains playlist names and their respective playlist ID's. The `artist` and `album` tables contain information about the artist and albums for tracks. Lastly, tracks may have a genre and media type, which can be found in the `genre` and `media_type` tables."
   ]
  },
  {
   "cell_type": "code",
   "execution_count": 3,
   "metadata": {
    "collapsed": false
   },
   "outputs": [
    {
     "data": {
      "text/html": [
       "<style>\n",
       "table {float:left}\n",
       "</style>"
      ],
      "text/plain": [
       "<IPython.core.display.HTML object>"
      ]
     },
     "metadata": {},
     "output_type": "display_data"
    }
   ],
   "source": [
    "%%html\n",
    "<style>\n",
    "table {float:left}\n",
    "</style>"
   ]
  },
  {
   "cell_type": "markdown",
   "metadata": {},
   "source": [
    "## Scenario 1\n",
    "The Chinook record store has just signed a deal with a new record label, and we've been tasked with selecting the first three albums that will be added to the store, from a list of four. All four albums are by artists that don't have any tracks in the store right now - we have the artist names, and the genre of music they produce. The record label specializes in artists from the USA, and they have given Chinook some money to advertise the new albums in the USA, so we're interested in finding out which genres sell the best in the USA. For this scenario we'll need to write a query to find out which genres sell the most tracks in the USA.\n",
    "\n",
    "|Artist Name|Genre|\n",
    "|---|---|\n",
    "|Regal| Hip-Hop|\n",
    "|Red Tone|Punk|\n",
    "|Meteor and the Girls|Pop|\n",
    "|Slim Jim Bites|Blues|"
   ]
  },
  {
   "cell_type": "markdown",
   "metadata": {},
   "source": [
    "The genre of a track purchased can be found in the table `genre`. We can find information about the number of track's purchased in the `invoice_line` table which tells us the `track ID` and `quantity` purchased. Lastly we'll want to make sure that we're only looking at the quantities of tracks purchased by customers in the USA, so we'll use the `invoice` table to confirm the billing address related to the tracks purchased. For this question we will assume that the billing address is the same as the customer's country of residence."
   ]
  },
  {
   "cell_type": "code",
   "execution_count": 4,
   "metadata": {
    "collapsed": false,
    "scrolled": true
   },
   "outputs": [
    {
     "name": "stdout",
     "output_type": "stream",
     "text": [
      "Done.\n"
     ]
    },
    {
     "data": {
      "text/html": [
       "<table>\n",
       "    <tr>\n",
       "        <th>genre</th>\n",
       "        <th>tracks_sold</th>\n",
       "        <th>percentage_tracks_sold</th>\n",
       "        <th>new_artists</th>\n",
       "    </tr>\n",
       "    <tr>\n",
       "        <td>Rock</td>\n",
       "        <td>561</td>\n",
       "        <td>0.5337773549000951</td>\n",
       "        <td></td>\n",
       "    </tr>\n",
       "    <tr>\n",
       "        <td>Alternative &amp; Punk</td>\n",
       "        <td>130</td>\n",
       "        <td>0.12369172216936251</td>\n",
       "        <td>Red Tone</td>\n",
       "    </tr>\n",
       "    <tr>\n",
       "        <td>Metal</td>\n",
       "        <td>124</td>\n",
       "        <td>0.11798287345385347</td>\n",
       "        <td></td>\n",
       "    </tr>\n",
       "    <tr>\n",
       "        <td>R&amp;B/Soul</td>\n",
       "        <td>53</td>\n",
       "        <td>0.05042816365366318</td>\n",
       "        <td></td>\n",
       "    </tr>\n",
       "    <tr>\n",
       "        <td>Blues</td>\n",
       "        <td>36</td>\n",
       "        <td>0.03425309229305423</td>\n",
       "        <td>Slim Jim Bites</td>\n",
       "    </tr>\n",
       "    <tr>\n",
       "        <td>Alternative</td>\n",
       "        <td>35</td>\n",
       "        <td>0.03330161750713606</td>\n",
       "        <td></td>\n",
       "    </tr>\n",
       "    <tr>\n",
       "        <td>Latin</td>\n",
       "        <td>22</td>\n",
       "        <td>0.02093244529019981</td>\n",
       "        <td></td>\n",
       "    </tr>\n",
       "    <tr>\n",
       "        <td>Pop</td>\n",
       "        <td>22</td>\n",
       "        <td>0.02093244529019981</td>\n",
       "        <td>Meteor and the Girls</td>\n",
       "    </tr>\n",
       "    <tr>\n",
       "        <td>Hip Hop/Rap</td>\n",
       "        <td>20</td>\n",
       "        <td>0.019029495718363463</td>\n",
       "        <td>Regal</td>\n",
       "    </tr>\n",
       "    <tr>\n",
       "        <td>Jazz</td>\n",
       "        <td>14</td>\n",
       "        <td>0.013320647002854425</td>\n",
       "        <td></td>\n",
       "    </tr>\n",
       "    <tr>\n",
       "        <td>Easy Listening</td>\n",
       "        <td>13</td>\n",
       "        <td>0.012369172216936251</td>\n",
       "        <td></td>\n",
       "    </tr>\n",
       "    <tr>\n",
       "        <td>Reggae</td>\n",
       "        <td>6</td>\n",
       "        <td>0.005708848715509039</td>\n",
       "        <td></td>\n",
       "    </tr>\n",
       "    <tr>\n",
       "        <td>Electronica/Dance</td>\n",
       "        <td>5</td>\n",
       "        <td>0.004757373929590866</td>\n",
       "        <td></td>\n",
       "    </tr>\n",
       "    <tr>\n",
       "        <td>Classical</td>\n",
       "        <td>4</td>\n",
       "        <td>0.003805899143672693</td>\n",
       "        <td></td>\n",
       "    </tr>\n",
       "    <tr>\n",
       "        <td>Heavy Metal</td>\n",
       "        <td>3</td>\n",
       "        <td>0.0028544243577545195</td>\n",
       "        <td></td>\n",
       "    </tr>\n",
       "    <tr>\n",
       "        <td>Soundtrack</td>\n",
       "        <td>2</td>\n",
       "        <td>0.0019029495718363464</td>\n",
       "        <td></td>\n",
       "    </tr>\n",
       "    <tr>\n",
       "        <td>TV Shows</td>\n",
       "        <td>1</td>\n",
       "        <td>0.0009514747859181732</td>\n",
       "        <td></td>\n",
       "    </tr>\n",
       "</table>"
      ],
      "text/plain": [
       "[('Rock', 561, 0.5337773549000951, ''),\n",
       " ('Alternative & Punk', 130, 0.12369172216936251, 'Red Tone'),\n",
       " ('Metal', 124, 0.11798287345385347, ''),\n",
       " ('R&B/Soul', 53, 0.05042816365366318, ''),\n",
       " ('Blues', 36, 0.03425309229305423, 'Slim Jim Bites'),\n",
       " ('Alternative', 35, 0.03330161750713606, ''),\n",
       " ('Latin', 22, 0.02093244529019981, ''),\n",
       " ('Pop', 22, 0.02093244529019981, 'Meteor and the Girls'),\n",
       " ('Hip Hop/Rap', 20, 0.019029495718363463, 'Regal'),\n",
       " ('Jazz', 14, 0.013320647002854425, ''),\n",
       " ('Easy Listening', 13, 0.012369172216936251, ''),\n",
       " ('Reggae', 6, 0.005708848715509039, ''),\n",
       " ('Electronica/Dance', 5, 0.004757373929590866, ''),\n",
       " ('Classical', 4, 0.003805899143672693, ''),\n",
       " ('Heavy Metal', 3, 0.0028544243577545195, ''),\n",
       " ('Soundtrack', 2, 0.0019029495718363464, ''),\n",
       " ('TV Shows', 1, 0.0009514747859181732, '')]"
      ]
     },
     "execution_count": 4,
     "metadata": {},
     "output_type": "execute_result"
    }
   ],
   "source": [
    "%%sql\n",
    "\n",
    "WITH usa_customers AS\n",
    "    (SELECT invoice_id\n",
    "       FROM invoice\n",
    "      WHERE billing_country = \"USA\"),\n",
    "    \n",
    "    usa_tracks AS\n",
    "    (SELECT track_id,\n",
    "            quantity\n",
    "       FROM invoice_line AS il\n",
    "      INNER JOIN usa_customers AS uc ON uc.invoice_id = il.invoice_id),\n",
    "\n",
    "    tracks_genre AS\n",
    "    (SELECT t.track_id AS track_id,\n",
    "            g.name AS genre\n",
    "       FROM track AS t\n",
    "      INNER JOIN genre AS g ON g.genre_id = t.genre_id)\n",
    "\n",
    "SELECT tg.genre,\n",
    "       SUM(ut.quantity) AS tracks_sold,\n",
    "       CAST(SUM(ut.quantity) AS FLOAT)/(SELECT CAST(SUM(quantity) AS FLOAT)\n",
    "                                          FROM usa_tracks) AS percentage_tracks_sold,\n",
    "       CASE\n",
    "       WHEN genre LIKE \"%Hop%\" THEN \"Regal\"\n",
    "       WHEN genre LIKE \"%Punk%\" THEN \"Red Tone\"\n",
    "       WHEN genre LIKE \"%Pop%\" THEN \"Meteor and the Girls\"\n",
    "       WHEN genre LIKE \"%Blues%\" THEN \"Slim Jim Bites\"\n",
    "       ELSE \"\"\n",
    "       END AS new_artists\n",
    "  FROM usa_tracks AS ut\n",
    " INNER JOIN tracks_genre AS tg on tg.track_id = ut.track_id\n",
    " GROUP BY 1\n",
    " ORDER BY 2 DESC;"
   ]
  },
  {
   "cell_type": "markdown",
   "metadata": {},
   "source": [
    "Based on our output table, Rock tracks made up 53% of tracks sold by Chinook in the USA. Unfortunately, none of our prospective artists fall into this genre. The next most popular genre was Alternative & Punk with 12% of tracks sold. The artist Red Tone falls into this genre. Blues, Pop, and Hip-Hop each respectively make up 2-3% of the total tracks sold. If we can only pick 3 artists, then Red Tone, Slim Jim Bites, and Meteor and the Girls make good selections since they have the highest relative tracks_sold. It's worth noting that there is only a difference of two tracks sold between Regal's genre \"Hip Hop/Rap\" and Meteor and the Girls' genre of \"Pop\". With more data we might look into how many social media followers the artists have to add another lens to our analysis. For this exercise, we'll go with a recommendation that the Red Tone, Slim Jim Bites, and Meteor and the Girls albums be added to the Chinook store. We might also recommend that Chinook try to source more Rock and Metal artists to be added to the store in the future."
   ]
  },
  {
   "cell_type": "markdown",
   "metadata": {},
   "source": [
    "## Scenario 2\n",
    "\n",
    "Each customer for the Chinook store gets assigned to a sales support agent within the company when they first make a purchase. We have been asked to analyze the purchases of customers belonging to each employee to see if any sales support agent is performing either better or worse than the others. To answer this question, we'll write a query that finds the total dollar amount of sales assigned to each sales support agent within the company. We may also need to consider additional attributes for employees as we get into the analysis. For this exercise we'll use the `employee`, `customer` and `invoice` tables.\n"
   ]
  },
  {
   "cell_type": "code",
   "execution_count": 5,
   "metadata": {
    "collapsed": false
   },
   "outputs": [
    {
     "name": "stdout",
     "output_type": "stream",
     "text": [
      "Done.\n"
     ]
    },
    {
     "data": {
      "text/html": [
       "<table>\n",
       "    <tr>\n",
       "        <th>employee_name</th>\n",
       "        <th>total_sales_dollars</th>\n",
       "    </tr>\n",
       "    <tr>\n",
       "        <td>Jane Peacock</td>\n",
       "        <td>1731.51</td>\n",
       "    </tr>\n",
       "    <tr>\n",
       "        <td>Margaret Park</td>\n",
       "        <td>1584.0</td>\n",
       "    </tr>\n",
       "    <tr>\n",
       "        <td>Steve Johnson</td>\n",
       "        <td>1393.92</td>\n",
       "    </tr>\n",
       "</table>"
      ],
      "text/plain": [
       "[('Jane Peacock', 1731.51),\n",
       " ('Margaret Park', 1584.0),\n",
       " ('Steve Johnson', 1393.92)]"
      ]
     },
     "execution_count": 5,
     "metadata": {},
     "output_type": "execute_result"
    }
   ],
   "source": [
    "%%sql\n",
    "\n",
    "SELECT e.first_name ||\" \"|| e.last_name AS employee_name,\n",
    "       ROUND(SUM(i.total),2) AS total_sales_dollars\n",
    " FROM customer AS c\n",
    "INNER JOIN invoice AS i on i.customer_id = c.customer_id\n",
    "INNER JOIN employee AS e on e.employee_id = c.support_rep_id\n",
    "GROUP BY 1;"
   ]
  },
  {
   "cell_type": "markdown",
   "metadata": {},
   "source": [
    "So far we have learned there are three sales support agents. The highest and lowest total sales amount differ only by $338, so it doesn't look like the employee performance differs by much based on sales amount. One reason why Jane Peacock might have sold more than Steve Johnson is that she was hired earlier. Let's test this theory by including the employee `hire_date` in our output."
   ]
  },
  {
   "cell_type": "code",
   "execution_count": 6,
   "metadata": {
    "collapsed": false,
    "scrolled": true
   },
   "outputs": [
    {
     "name": "stdout",
     "output_type": "stream",
     "text": [
      "Done.\n"
     ]
    },
    {
     "data": {
      "text/html": [
       "<table>\n",
       "    <tr>\n",
       "        <th>employee_name</th>\n",
       "        <th>hire_date</th>\n",
       "        <th>total_sales_dollars</th>\n",
       "    </tr>\n",
       "    <tr>\n",
       "        <td>Jane Peacock</td>\n",
       "        <td>2017-04-01 00:00:00</td>\n",
       "        <td>1731.51</td>\n",
       "    </tr>\n",
       "    <tr>\n",
       "        <td>Margaret Park</td>\n",
       "        <td>2017-05-03 00:00:00</td>\n",
       "        <td>1584.0</td>\n",
       "    </tr>\n",
       "    <tr>\n",
       "        <td>Steve Johnson</td>\n",
       "        <td>2017-10-17 00:00:00</td>\n",
       "        <td>1393.92</td>\n",
       "    </tr>\n",
       "</table>"
      ],
      "text/plain": [
       "[('Jane Peacock', '2017-04-01 00:00:00', 1731.51),\n",
       " ('Margaret Park', '2017-05-03 00:00:00', 1584.0),\n",
       " ('Steve Johnson', '2017-10-17 00:00:00', 1393.92)]"
      ]
     },
     "execution_count": 6,
     "metadata": {},
     "output_type": "execute_result"
    }
   ],
   "source": [
    "%%sql\n",
    "\n",
    "SELECT e.first_name ||\" \"|| e.last_name AS employee_name,\n",
    "       e.hire_date AS hire_date,\n",
    "       ROUND(SUM(i.total),2) AS total_sales_dollars\n",
    " FROM customer AS c\n",
    "INNER JOIN invoice AS i on i.customer_id = c.customer_id\n",
    "INNER JOIN employee AS e on e.employee_id = c.support_rep_id\n",
    "GROUP BY 1;"
   ]
  },
  {
   "cell_type": "markdown",
   "metadata": {},
   "source": [
    "Our hypothesis is true. Steve was hired latest in the year and thus has sold the least. In response to the question, our answer is that no sales support agent is performing better or worse than the others."
   ]
  },
  {
   "cell_type": "markdown",
   "metadata": {},
   "source": [
    "## Scenario 3\n",
    "\n",
    "Our next task is to analyze the sales data for customers from each different country. We have been given guidance to use the country value from the customers table, and ignore the country from the billing address in the invoice table.\n",
    "\n",
    "In particular, you have been directed to calculate data, for each country, on the:\n",
    "\n",
    "- total number of customers\n",
    "- total value of sales\n",
    "- average value of sales per customer\n",
    "- average order value\n",
    "\n",
    "Since there are a number of countries with only 1 customer, we will group these customers as \"Other\" in our analysis."
   ]
  },
  {
   "cell_type": "code",
   "execution_count": 7,
   "metadata": {
    "collapsed": false,
    "scrolled": false
   },
   "outputs": [
    {
     "name": "stdout",
     "output_type": "stream",
     "text": [
      "Done.\n"
     ]
    },
    {
     "data": {
      "text/html": [
       "<table>\n",
       "    <tr>\n",
       "        <th>country</th>\n",
       "        <th>num_customers</th>\n",
       "        <th>total</th>\n",
       "        <th>sales_per_customer</th>\n",
       "        <th>avg_order_value</th>\n",
       "    </tr>\n",
       "    <tr>\n",
       "        <td>Czech Republic</td>\n",
       "        <td>2</td>\n",
       "        <td>128.7</td>\n",
       "        <td>64.35</td>\n",
       "        <td>9.11</td>\n",
       "    </tr>\n",
       "    <tr>\n",
       "        <td>Brazil</td>\n",
       "        <td>5</td>\n",
       "        <td>106.92</td>\n",
       "        <td>21.38</td>\n",
       "        <td>7.01</td>\n",
       "    </tr>\n",
       "    <tr>\n",
       "        <td>Portugal</td>\n",
       "        <td>2</td>\n",
       "        <td>82.17</td>\n",
       "        <td>41.09</td>\n",
       "        <td>6.38</td>\n",
       "    </tr>\n",
       "    <tr>\n",
       "        <td>United Kingdom</td>\n",
       "        <td>3</td>\n",
       "        <td>79.2</td>\n",
       "        <td>26.4</td>\n",
       "        <td>8.77</td>\n",
       "    </tr>\n",
       "    <tr>\n",
       "        <td>Canada</td>\n",
       "        <td>8</td>\n",
       "        <td>75.24</td>\n",
       "        <td>9.4</td>\n",
       "        <td>7.05</td>\n",
       "    </tr>\n",
       "    <tr>\n",
       "        <td>France</td>\n",
       "        <td>5</td>\n",
       "        <td>73.26</td>\n",
       "        <td>14.65</td>\n",
       "        <td>7.78</td>\n",
       "    </tr>\n",
       "    <tr>\n",
       "        <td>Germany</td>\n",
       "        <td>4</td>\n",
       "        <td>73.26</td>\n",
       "        <td>18.32</td>\n",
       "        <td>8.16</td>\n",
       "    </tr>\n",
       "    <tr>\n",
       "        <td>USA</td>\n",
       "        <td>13</td>\n",
       "        <td>72.27</td>\n",
       "        <td>5.56</td>\n",
       "        <td>7.94</td>\n",
       "    </tr>\n",
       "    <tr>\n",
       "        <td>India</td>\n",
       "        <td>2</td>\n",
       "        <td>71.28</td>\n",
       "        <td>35.64</td>\n",
       "        <td>8.72</td>\n",
       "    </tr>\n",
       "    <tr>\n",
       "        <td>Other</td>\n",
       "        <td>15</td>\n",
       "        <td>1094.94</td>\n",
       "        <td>73.0</td>\n",
       "        <td>7.44</td>\n",
       "    </tr>\n",
       "</table>"
      ],
      "text/plain": [
       "[('Czech Republic', 2, 128.7, 64.35, 9.11),\n",
       " ('Brazil', 5, 106.92, 21.38, 7.01),\n",
       " ('Portugal', 2, 82.17, 41.09, 6.38),\n",
       " ('United Kingdom', 3, 79.2, 26.4, 8.77),\n",
       " ('Canada', 8, 75.24, 9.4, 7.05),\n",
       " ('France', 5, 73.26, 14.65, 7.78),\n",
       " ('Germany', 4, 73.26, 18.32, 8.16),\n",
       " ('USA', 13, 72.27, 5.56, 7.94),\n",
       " ('India', 2, 71.28, 35.64, 8.72),\n",
       " ('Other', 15, 1094.94, 73.0, 7.44)]"
      ]
     },
     "execution_count": 7,
     "metadata": {},
     "output_type": "execute_result"
    }
   ],
   "source": [
    "%%sql\n",
    "\n",
    "WITH sales_country AS\n",
    "      (SELECT c.customer_id AS customer_id,\n",
    "              c.country AS country,\n",
    "              ROUND(SUM(i.total),2) AS total\n",
    "        FROM customer AS c\n",
    "       INNER JOIN invoice AS i on i.customer_id = c.customer_id\n",
    "       GROUP BY 1\n",
    "       ORDER BY 1),\n",
    "    \n",
    "     avg_order AS\n",
    "     (SELECT c.country, \n",
    "             ROUND(AVG(i.total),2) AS avg_order_value\n",
    "        FROM invoice AS i\n",
    "       INNER JOIN customer AS c on c.customer_id = i.customer_id\n",
    "       GROUP BY 1),\n",
    "    \n",
    "    country_all AS \n",
    "    (SELECT ao.country,\n",
    "            COUNT(sc.customer_id) AS num_customers,\n",
    "            sc.total,\n",
    "            ROUND(sc.total/COUNT(sc.customer_id),2) AS sales_per_customer,\n",
    "            avg_order_value\n",
    "       FROM sales_country AS sc\n",
    "      INNER JOIN avg_order AS ao ON sc.country = ao.country\n",
    "      GROUP BY 1),\n",
    "  \n",
    "    other AS\n",
    "    (SELECT CASE\n",
    "            WHEN num_customers = 1 THEN \"Other\"\n",
    "            END AS country,\n",
    "            SUM(num_customers) AS num_customers,\n",
    "            SUM(total) AS total,\n",
    "            ROUND(AVG(sales_per_customer),2) AS sales_per_customer,\n",
    "            ROUND(AVG(avg_order_value),2) AS avg_order_value\n",
    "       FROM country_all\n",
    "      WHERE num_customers = 1),\n",
    "     \n",
    "    country_with_other AS   \n",
    "    (SELECT *\n",
    "       FROM country_all\n",
    "      WHERE num_customers > 1\n",
    "\n",
    "     UNION\n",
    "\n",
    "     SELECT *\n",
    "       FROM other\n",
    "      ORDER BY total DESC),\n",
    "    \n",
    "    country_sort AS\n",
    "    (SELECT *,\n",
    "            CASE\n",
    "            WHEN country = \"Other\" THEN 1\n",
    "            ELSE 0\n",
    "            END AS sort\n",
    "       FROM country_with_other)\n",
    "\n",
    "SELECT country, \n",
    "       num_customers,\n",
    "       total,\n",
    "       sales_per_customer,\n",
    "       avg_order_value\n",
    " FROM country_sort\n",
    "ORDER BY sort;"
   ]
  },
  {
   "cell_type": "markdown",
   "metadata": {},
   "source": [
    "## Scenario 4\n",
    "\n",
    "The Chinook store is setup in a way that allows customer to make purchases in one of the two ways:\n",
    "\n",
    "- purchase a whole album\n",
    "- purchase a collection of one or more individual tracks.\n",
    "\n",
    "Management are currently considering changing their purchasing strategy to save money. The strategy they are considering is to purchase only the most popular tracks from each album from record companies, instead of purchasing every track from an album.\n",
    "\n",
    "We have been asked to find out what percentage of purchases are individual tracks vs whole albums, so that management can use this data to understand the effect this decision might have on overall revenue.\n",
    "\n",
    "**Additional background information:**\n",
    "\n",
    "- The store does not let customers purchase a whole album, and then add individual tracks to that same purchase (unless they do that by choosing each track manually). \n",
    "- When customers purchase albums they are charged the same price as if they had purchased each of those tracks separately.\n",
    "\n",
    "**Known edge cases:**\n",
    "\n",
    " - Albums that have only one or two tracks are likely to be purchased by customers as part of a collection of individual tracks.\n",
    "\n",
    "Since our analysis is concerned with maximizing revenue we can safely ignore albums consisting of only a few tracks.\n",
    "\n",
    " - Customers may decide to manually select every track from an album, and then add a few individual tracks from other albums to their purchase.\n",
    " \n",
    "The company has previously done analysis to confirm this case does not happen often, so we can ignore this case also.\n",
    "\n",
    "**Approach**\n",
    "\n",
    "To address this question, we're going to have to identify whether each invoice has all the tracks from an album. We can do this by getting the list of tracks from an invoice and comparing it to the list of tracks from an album. We can find the album to compare the purchase to by looking up the album that one of the purchased tracks belongs to. It doesn't matter which track we pick, since if it's an album purchase, that album will be the same for all tracks."
   ]
  },
  {
   "cell_type": "code",
   "execution_count": 14,
   "metadata": {
    "collapsed": false
   },
   "outputs": [
    {
     "name": "stdout",
     "output_type": "stream",
     "text": [
      "Done.\n"
     ]
    },
    {
     "data": {
      "text/html": [
       "<table>\n",
       "    <tr>\n",
       "        <th>album_purchase</th>\n",
       "        <th>num_invoices</th>\n",
       "        <th>percent</th>\n",
       "    </tr>\n",
       "    <tr>\n",
       "        <td>no</td>\n",
       "        <td>500</td>\n",
       "        <td>0.8143322475570033</td>\n",
       "    </tr>\n",
       "    <tr>\n",
       "        <td>yes</td>\n",
       "        <td>114</td>\n",
       "        <td>0.18566775244299674</td>\n",
       "    </tr>\n",
       "</table>"
      ],
      "text/plain": [
       "[('no', 500, 0.8143322475570033), ('yes', 114, 0.18566775244299674)]"
      ]
     },
     "execution_count": 14,
     "metadata": {},
     "output_type": "execute_result"
    }
   ],
   "source": [
    "%%sql\n",
    "\n",
    "WITH invoice_track AS\n",
    "\n",
    "    (SELECT invoice_id, track_id\n",
    "       FROM invoice_line\n",
    "   GROUP BY invoice_id)\n",
    "\n",
    "SELECT album_purchase,\n",
    "       COUNT(invoice_id) AS num_invoices,\n",
    "       CAST(COUNT(invoice_id) AS FLOAT)/(SELECT COUNT(invoice_id)\n",
    "                                           FROM invoice) percent\n",
    "\n",
    " FROM (SELECT it.*,\n",
    "         CASE\n",
    "         WHEN\n",
    "                (\n",
    "                 SELECT track_id \n",
    "                   FROM track AS t\n",
    "                  WHERE album_id = (SELECT t2.album_id\n",
    "                                    FROM track AS t2\n",
    "                                   WHERE track_id = it.track_id)\n",
    "\n",
    "             EXCEPT\n",
    "\n",
    "                SELECT track_id\n",
    "                  FROM invoice_line AS il\n",
    "                 WHERE invoice_id = it.invoice_id\n",
    "                ) IS NULL\n",
    "\n",
    "        AND \n",
    "\n",
    "                (\n",
    "                SELECT track_id\n",
    "                  FROM invoice_line AS il\n",
    "                 WHERE invoice_id = it.invoice_id\n",
    "\n",
    "                EXCEPT \n",
    "\n",
    "                SELECT track_id \n",
    "                  FROM track AS t\n",
    "                WHERE album_id = (SELECT t2.album_id\n",
    "                                    FROM track AS t2\n",
    "                                   WHERE track_id = it.track_id)\n",
    "                ) IS NULL\n",
    "\n",
    "        THEN \"yes\"\n",
    "        ELSE \"no\"\n",
    "        END AS album_purchase\n",
    "        FROM invoice_track AS it)\n",
    "\n",
    "GROUP BY album_purchase;"
   ]
  },
  {
   "cell_type": "markdown",
   "metadata": {},
   "source": [
    "Since 81% of invoices are not album purchases, it is recommedned that the Chinook store not continue to buy full albums from record companies, and instead just focus on purchasing the most popular tracks from albums."
   ]
  }
 ],
 "metadata": {
  "kernelspec": {
   "display_name": "Python 3",
   "language": "python",
   "name": "python3"
  },
  "language_info": {
   "codemirror_mode": {
    "name": "ipython",
    "version": 3
   },
   "file_extension": ".py",
   "mimetype": "text/x-python",
   "name": "python",
   "nbconvert_exporter": "python",
   "pygments_lexer": "ipython3",
   "version": "3.4.3"
  }
 },
 "nbformat": 4,
 "nbformat_minor": 2
}
