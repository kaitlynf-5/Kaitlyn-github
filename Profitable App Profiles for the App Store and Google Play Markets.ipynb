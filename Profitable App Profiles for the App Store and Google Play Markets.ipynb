{
 "cells": [
  {
   "cell_type": "markdown",
   "metadata": {},
   "source": [
    "# Profitable Apps Profiles for the App Store and Google Play Markets\n",
    "\n",
    "Our company builds Android and iOS mobile apps that are free to download from the Google Play and App store. Since the apps developed are free, the main source of revenue for the company is in-app ads, therefore revenue is mostly influenced by the number of users who use the app.The goal of this project is to help app developers understand which apps attract the most users.\n",
    "\n",
    "As of September 2018, there were approximately 2 million iOS apps available on the App Store, and 2.1 million Android apps on Google Play.\n",
    "\n",
    "To avoid spending resources on collecting new data ourselves, we will use the following two data sets that are freely available on Kaggle:\n",
    "\n",
    "\n",
    "1. A data set containing data about approximately 10,000 Android apps from Google Play; the data was collected in August 2018. You can download the data set directly from this [link.](https://www.kaggle.com/lava18/google-play-store-apps) \n",
    "\n",
    "2. A data set containing data about approximately 7,000 iOS apps from the App Store; the data was collected in July 2017. You can download the data set directly from this [link.](https://www.kaggle.com/ramamet4/app-store-apple-data-set-10k-apps) \n",
    "\n",
    "# Exploring the Data\n",
    "\n",
    "To start off, we define the function `explore_data`, with the following parameters:\n",
    "\n",
    "1. `dataset`: a set of data in a list of lists without the header row.\n",
    "\n",
    "2. `start`: the beginning index of the \"slice\" of data we want to explore.\n",
    "\n",
    "3. `end` : the ending index of the \"slice\" of data we want to explore.\n",
    "\n",
    "4. `rows_and_columns`: a parameter set to `False` by default that when set to `True` will print the number of rows and number of columns in the data set."
   ]
  },
  {
   "cell_type": "code",
   "execution_count": 1,
   "metadata": {},
   "outputs": [],
   "source": [
    "from csv import reader\n",
    "apple_opened_file = open('AppleStore.csv',encoding='utf8')\n",
    "apple_read_file = reader(apple_opened_file)\n",
    "apple_data_set = list(apple_read_file)\n",
    "apple_rows = apple_data_set[1:] #Exlude the header row\n",
    "\n",
    "google_opened_file = open('googleplaystore.csv',encoding='utf8')\n",
    "google_read_file = reader(google_opened_file)\n",
    "google_data_set = list(google_read_file)\n",
    "google_rows = google_data_set[1:] #Exlude the header row\n",
    "\n",
    "def explore_data(dataset, start, end, rows_and_columns=False):\n",
    "    dataset_slice = dataset[start:end]    \n",
    "    for row in dataset_slice:\n",
    "        print(row)\n",
    "        print('\\n') # Adds a new (empty) line after each row\n",
    "\n",
    "    if rows_and_columns:\n",
    "        print('Number of rows:', len(dataset))\n",
    "        print('Number of columns:', len(dataset[0]))"
   ]
  },
  {
   "cell_type": "markdown",
   "metadata": {},
   "source": [
    "Using the function `explore_data`, let's examine the first couple rows of each data set and find the number of rows and columns in each dataset."
   ]
  },
  {
   "cell_type": "code",
   "execution_count": 2,
   "metadata": {
    "scrolled": true
   },
   "outputs": [
    {
     "name": "stdout",
     "output_type": "stream",
     "text": [
      "['284882215', 'Facebook', '389879808', 'USD', '0.0', '2974676', '212', '3.5', '3.5', '95.0', '4+', 'Social Networking', '37', '1', '29', '1']\n",
      "\n",
      "\n",
      "['389801252', 'Instagram', '113954816', 'USD', '0.0', '2161558', '1289', '4.5', '4.0', '10.23', '12+', 'Photo & Video', '37', '0', '29', '1']\n",
      "\n",
      "\n",
      "Number of rows: 7197\n",
      "Number of columns: 16\n"
     ]
    }
   ],
   "source": [
    "explore_data(apple_rows,0,2,True)"
   ]
  },
  {
   "cell_type": "code",
   "execution_count": 3,
   "metadata": {},
   "outputs": [
    {
     "name": "stdout",
     "output_type": "stream",
     "text": [
      "['Photo Editor & Candy Camera & Grid & ScrapBook', 'ART_AND_DESIGN', '4.1', '159', '19M', '10,000+', 'Free', '0', 'Everyone', 'Art & Design', 'January 7, 2018', '1.0.0', '4.0.3 and up']\n",
      "\n",
      "\n",
      "['Coloring book moana', 'ART_AND_DESIGN', '3.9', '967', '14M', '500,000+', 'Free', '0', 'Everyone', 'Art & Design;Pretend Play', 'January 15, 2018', '2.0.0', '4.0.3 and up']\n",
      "\n",
      "\n",
      "Number of rows: 10841\n",
      "Number of columns: 13\n"
     ]
    }
   ],
   "source": [
    "explore_data(google_rows,0,2,True)"
   ]
  },
  {
   "cell_type": "markdown",
   "metadata": {},
   "source": [
    "Below is a list of a the columns found in the App store and Google Play store data sets. \n",
    "\n",
    "**App Store Data Set Columns**\n",
    "\n",
    "|Column|Index|Definition|\n",
    "|:---|:---:|:---|\n",
    "|id|0|App ID|\n",
    "|track_name|1|App Name|\n",
    "|size_bytes|2|Size (in Bytes)|\n",
    "|currency|3|Currency Type|\n",
    "|price|4|Price amount|\n",
    "|ratingcounttot|5|User Rating counts (for all version)|\n",
    "|ratingcountver|6|User Rating counts (for current version)|\n",
    "|user_rating|7|Average User Rating value (for all version)|\n",
    "|userratingver|8|Average User Rating value (for current version)|\n",
    "|ver|9|Latest version code|\n",
    "|cont_rating|10|Content Rating|\n",
    "|prime_genre|11|Primary Genre|\n",
    "|sup_devices.num|12|Number of supporting devices|\n",
    "|ipadSc_urls.num|13|Number of screenshots showed for display|\n",
    "|lang.num|14|Number of supported languages|\n",
    "|vpp_lic|15|Vpp Device Based Licensing Enabled|\n",
    "\n",
    "**Google Play Store Data Set Columns**\n",
    "\n",
    "|Column|Index|Definition|\n",
    "|:---|:---:|:---|\n",
    "|App|0|Application Name|\n",
    "|Category|1|Category the app belongs to|\n",
    "|Rating|2|Overall user rating of the app (as when scraped)|\n",
    "|Reviews|3|Number of user reviews for the app (as when scraped)|\n",
    "|Size|4|Size of the app (as when scraped)|\n",
    "|Installs|5|Number of user downloads/installs for the app (as when scraped)|\n",
    "|Type|6|Paid or Free|\n",
    "|Price|7|Price of the app (as when scraped)|\n",
    "|Content Rating|8|Age group the app is targeted at - Children / Mature 21+ / Adult|\n",
    "|Genres|9|An app can belong to multiple genres (apart from its main category).|"
   ]
  },
  {
   "cell_type": "markdown",
   "metadata": {},
   "source": [
    "# Ensuring Accuracy in our Data\n",
    "\n",
    "## Deleting entries with missing values\n",
    "\n",
    "From a [discussion](https://www.kaggle.com/lava18/google-play-store-apps/discussion/66015) on Kaggle for the Google Play dataset we learn that entry 10472 is missing data for the column `category`. In the next step we delete this row, since the missing value offsets the indexes of the remaining values in the row, which could later cause an error in our analysis. Alternatively we could have added the missing value for this row to the data set, however since there are 10,841 rows, deleting one row will not effect our analysis significantly."
   ]
  },
  {
   "cell_type": "code",
   "execution_count": 4,
   "metadata": {},
   "outputs": [],
   "source": [
    "del(google_rows[10472])"
   ]
  },
  {
   "cell_type": "markdown",
   "metadata": {},
   "source": [
    "## Removing Duplicate Entries\n",
    "\n",
    "The Google Play dataset has some duplicate entries for certain apps. We discover this by looping through the data set and saving unique app names (index 0) to a list called `unique_apps`. Any app name that is already in `unique_apps` is appeneded to the list `duplicate_apps`.By printing the length of the list `duplicate_apps` we see there are 1,181 duplicate entries. "
   ]
  },
  {
   "cell_type": "code",
   "execution_count": 5,
   "metadata": {},
   "outputs": [
    {
     "name": "stdout",
     "output_type": "stream",
     "text": [
      "Number of duplicate apps: 1181\n",
      "\n",
      "\n",
      "Examples of duplicate apps: ['Quick PDF Scanner + OCR FREE', 'Box', 'Google My Business', 'ZOOM Cloud Meetings', 'join.me - Simple Meetings', 'Box', 'Zenefits', 'Google Ads', 'Google My Business', 'Slack']\n"
     ]
    }
   ],
   "source": [
    "unique_apps = []\n",
    "duplicate_apps = []\n",
    "for app in google_rows:\n",
    "    name = app[0]\n",
    "    if name in unique_apps:\n",
    "        duplicate_apps.append(name)\n",
    "    else:\n",
    "        unique_apps.append(name)\n",
    "\n",
    "print('Number of duplicate apps:', len(duplicate_apps))\n",
    "print('\\n')\n",
    "print('Examples of duplicate apps:', duplicate_apps[:10])"
   ]
  },
  {
   "cell_type": "markdown",
   "metadata": {},
   "source": [
    "One example of an app with duplicate entries is 'Slack'.By examining the duplicate data for 'Slack' printed below, we can see the main difference between the entries is the number of reviews (index 3). Rather than deleting the duplicate entries at random, for any app with duplicate entries we will keep the entry with the highest number of reviews, since this is most likely the most recent version of the data for the app. In the case below, we would keep line 3. If two lines have the same highest number of reviews like lines 1 & 2, the second entry will be removed (line 2)."
   ]
  },
  {
   "cell_type": "code",
   "execution_count": 6,
   "metadata": {
    "scrolled": true
   },
   "outputs": [
    {
     "name": "stdout",
     "output_type": "stream",
     "text": [
      "['Slack', 'BUSINESS', '4.4', '51507', 'Varies with device', '5,000,000+', 'Free', '0', 'Everyone', 'Business', 'August 2, 2018', 'Varies with device', 'Varies with device']\n",
      "['Slack', 'BUSINESS', '4.4', '51507', 'Varies with device', '5,000,000+', 'Free', '0', 'Everyone', 'Business', 'August 2, 2018', 'Varies with device', 'Varies with device']\n",
      "['Slack', 'BUSINESS', '4.4', '51510', 'Varies with device', '5,000,000+', 'Free', '0', 'Everyone', 'Business', 'August 2, 2018', 'Varies with device', 'Varies with device']\n"
     ]
    }
   ],
   "source": [
    "for app in google_rows:\n",
    "    name = app[0]\n",
    "    if name == 'Slack':\n",
    "        print(app)"
   ]
  },
  {
   "cell_type": "markdown",
   "metadata": {},
   "source": [
    "To apply the logic described to remove the duplicates, we will:\n",
    "\n",
    "- Create a dictionary, where each dictionary key is a unique app name and the corresponding dictionary value is the highest number of reviews of that app\n",
    "\n",
    "- Use the information stored in the dictionary and create a new data set, which will have only one entry per app (the entry with the highest number of reviews)"
   ]
  },
  {
   "cell_type": "code",
   "execution_count": 7,
   "metadata": {},
   "outputs": [
    {
     "name": "stdout",
     "output_type": "stream",
     "text": [
      "51507.0\n"
     ]
    }
   ],
   "source": [
    "reviews_max = {}\n",
    "for app in google_rows:\n",
    "    name = app[0]\n",
    "    n_reviews = float(app[3])\n",
    "    if name in reviews_max and reviews_max[name] > n_reviews:\n",
    "        reviews_max[name] = n_reviews\n",
    "    if name not in reviews_max:\n",
    "        reviews_max[name] = n_reviews\n",
    "        \n",
    "print(reviews_max['Slack'])\n"
   ]
  },
  {
   "cell_type": "markdown",
   "metadata": {},
   "source": [
    "The expected length of the dictionary is the total number of rows in the Google Play data set (10841) minus the number of duplicate entries (1181)."
   ]
  },
  {
   "cell_type": "code",
   "execution_count": 8,
   "metadata": {},
   "outputs": [
    {
     "name": "stdout",
     "output_type": "stream",
     "text": [
      "Expected length:  9659\n",
      "Actual length:  9659\n"
     ]
    }
   ],
   "source": [
    "print('Expected length: ',len(google_rows)-len(duplicate_apps))\n",
    "print('Actual length: ', len(reviews_max))"
   ]
  },
  {
   "cell_type": "markdown",
   "metadata": {},
   "source": [
    "The next step is to use the dictionary `reviews_max` to remove the duplicate rows. We create two empty lists: `android_clean`, a list that will store the data set with the duplicates removed, and `already_added`, a list that will store the names of apps added to the clean dataset.\n",
    "\n",
    "Next we loop through the Google Play store data set, saving the app name to the variable `name` and the number of reviews an app has to the variable `n_reviews`. As we loop through the rows of data, whenever we get to the row we want to keep (where `n_reviews` is equal to the max `n_reviews` saved in our dictionary), we append that entire row of data to the list `android_clean` and append the name of the app to the list `already_added` as long as the name of the app isn't in `already_added`. It is important to add the name of the app to `already_added` because of the case like Slack where two entries contain the same `n_reviews` value, and that value is the highest number of reviews. We only need to save one of these rows, so we save the first row the loop encounters. The second entry will not be appended to `android_clean`.\n",
    "\n",
    "Next let's inspect the data for Slack in `android_clean` to confirm there is only one entry, and that the entry contains the value 51507, the max number of reviews from the duplicates. We should also confirm that the length of the clean data set matches the expected length: 9659."
   ]
  },
  {
   "cell_type": "code",
   "execution_count": 9,
   "metadata": {},
   "outputs": [
    {
     "name": "stdout",
     "output_type": "stream",
     "text": [
      "Length of data set without duplicated:  9659\n",
      "\n",
      "\n",
      "['Slack', 'BUSINESS', '4.4', '51507', 'Varies with device', '5,000,000+', 'Free', '0', 'Everyone', 'Business', 'August 2, 2018', 'Varies with device', 'Varies with device']\n"
     ]
    }
   ],
   "source": [
    "android_clean = [] #A list that will store our new cleaned data set.\n",
    "already_added = [] # A list that will just store app names.\n",
    "\n",
    "for app in google_rows:\n",
    "    name = app[0]\n",
    "    n_reviews = float(app[3])\n",
    "    if n_reviews == reviews_max[name] and name not in already_added:\n",
    "        android_clean.append(app)\n",
    "        already_added.append(name)\n",
    "\n",
    "print('Length of data set without duplicated: ', len(android_clean))\n",
    "print('\\n')\n",
    "for row in android_clean:\n",
    "    name = row[0]\n",
    "    if name == 'Slack':\n",
    "        print(row)"
   ]
  },
  {
   "cell_type": "markdown",
   "metadata": {},
   "source": [
    "Now that we have removed the duplicate data from the Google Play Store data set, we confirm that the App Store dataset does not have any duplicate entries by following the same exercise we used for the Google Play store data set. There are no duplicate entries in the App Store data set."
   ]
  },
  {
   "cell_type": "code",
   "execution_count": 10,
   "metadata": {},
   "outputs": [
    {
     "name": "stdout",
     "output_type": "stream",
     "text": [
      "Number of duplicate apps: 0\n"
     ]
    }
   ],
   "source": [
    "unique_apps_2 = []\n",
    "duplicate_apps_2 = []\n",
    "for row in apple_rows:\n",
    "    id_num = row[0]\n",
    "    if id_num in unique_apps_2:\n",
    "        duplicate_apps_2.append(id_num)\n",
    "    else:\n",
    "        unique_apps_2.append(id_num)\n",
    "        \n",
    "        \n",
    "print('Number of duplicate apps:', len(duplicate_apps_2))"
   ]
  },
  {
   "cell_type": "markdown",
   "metadata": {},
   "source": [
    "## Removing irrelevant data\n",
    "\n",
    "Since our company only develops English apps, we want to remove any apps that are not directed toward an English-speaking audience like the ones printed below."
   ]
  },
  {
   "cell_type": "code",
   "execution_count": 11,
   "metadata": {},
   "outputs": [
    {
     "name": "stdout",
     "output_type": "stream",
     "text": [
      "爱奇艺PPS -《欢乐颂2》电视剧热播\n"
     ]
    }
   ],
   "source": [
    "print(apple_rows[813][1])"
   ]
  },
  {
   "cell_type": "markdown",
   "metadata": {},
   "source": [
    "The numbers corresponding to the characters we commonly use in an English text are all in the range 0 to 127, according to the ASCII (American Standard Code for Information Interchange) system. We can get the corresponding number of each character using the `ord()` built-in function. We will use this information to identify app names with foreign characters by iterating through the name of each app looking for non-English characters.\n",
    "\n",
    "The function `language_checker` will take in a string and return either `True` or `False` depending on if that string contains non-English characters (where `ord()` function returns a value greater than 127)."
   ]
  },
  {
   "cell_type": "code",
   "execution_count": 12,
   "metadata": {},
   "outputs": [],
   "source": [
    "def language_checker(string):\n",
    "    for letter in string:\n",
    "        if ord(letter) > 127:\n",
    "            return False\n",
    "    return True"
   ]
  },
  {
   "cell_type": "markdown",
   "metadata": {},
   "source": [
    "Now we can test if the following app names are detected correctly:\n",
    "- 'Instagram'\n",
    "- '爱奇艺PPS -《欢乐颂2》电视剧热播'\n",
    "- 'Docs To Go™ Free Office Suite'\n",
    "- 'Instachat 😜'\n",
    "\n",
    "Below we see that the function has classified some English apps as non-English because they contain special characters like emojis or ™ that fall outside the ASCII range and have corresponding numbers over 127. "
   ]
  },
  {
   "cell_type": "code",
   "execution_count": 13,
   "metadata": {},
   "outputs": [
    {
     "name": "stdout",
     "output_type": "stream",
     "text": [
      "True\n",
      "False\n",
      "False\n",
      "False\n",
      "\n",
      "\n",
      "8482\n",
      "128540\n"
     ]
    }
   ],
   "source": [
    "name_1 = 'Instagram'\n",
    "name_2 = '爱奇艺PPS -《欢乐颂2》电视剧热播'\n",
    "name_3 = 'Docs To Go™ Free Office Suite'\n",
    "name_4 = 'Instachat 😜'\n",
    "\n",
    "print(language_checker(name_1))\n",
    "print(language_checker(name_2))\n",
    "print(language_checker(name_3))\n",
    "print(language_checker(name_4))\n",
    "\n",
    "print('\\n')\n",
    "\n",
    "print(ord('™')) #Some English special characters fall outside the ASCII range\n",
    "print(ord('😜'))"
   ]
  },
  {
   "cell_type": "markdown",
   "metadata": {},
   "source": [
    "Since we don't want to exclude English apps with special characters like emojis, we'll only remove an app if its name has more than three characters with corresponding numbers falling outside the ASCII range.This means all English apps with up to three emojis or other special characters will still be labeled as English.While this solution isn't perfect, it will minimize data loss and be fairly effective."
   ]
  },
  {
   "cell_type": "code",
   "execution_count": 14,
   "metadata": {
    "scrolled": true
   },
   "outputs": [],
   "source": [
    "def language_checker(string):\n",
    "    char_count = 0\n",
    "    for letter in string:\n",
    "        if ord(letter) > 127:\n",
    "            char_count += 1\n",
    "    if char_count>3:\n",
    "        return False\n",
    "    return True"
   ]
  },
  {
   "cell_type": "markdown",
   "metadata": {},
   "source": [
    "Our new `language_checker` function now correctly identifies the English and non-English apps."
   ]
  },
  {
   "cell_type": "code",
   "execution_count": 15,
   "metadata": {},
   "outputs": [
    {
     "name": "stdout",
     "output_type": "stream",
     "text": [
      "True\n",
      "False\n",
      "True\n",
      "True\n"
     ]
    }
   ],
   "source": [
    "name_1 = 'Instagram'\n",
    "name_2 = '爱奇艺PPS -《欢乐颂2》电视剧热播'\n",
    "name_3 = 'Docs To Go™ Free Office Suite'\n",
    "name_4 = 'Instachat 😜'\n",
    "\n",
    "print(language_checker(name_1))\n",
    "print(language_checker(name_2))\n",
    "print(language_checker(name_3))\n",
    "print(language_checker(name_4))"
   ]
  },
  {
   "cell_type": "markdown",
   "metadata": {},
   "source": [
    "We'll now use the `language_checker` function to filter out non-English apps from both data sets. We'll loop through each data set and append rows with English app names to a new list, `apple_new` or `google_new`."
   ]
  },
  {
   "cell_type": "code",
   "execution_count": 16,
   "metadata": {},
   "outputs": [],
   "source": [
    "#Loop through App Store Data:\n",
    "\n",
    "apple_new = []\n",
    "for row in apple_rows:\n",
    "    name = row[1]\n",
    "    if language_checker(name) == True:\n",
    "        apple_new.append(row)\n",
    "\n",
    "#Loop through Google Store Data:\n",
    "\n",
    "google_new = []\n",
    "\n",
    "for row in android_clean:\n",
    "    name = row[0]\n",
    "    if language_checker(name) == True:\n",
    "        google_new.append(row)"
   ]
  },
  {
   "cell_type": "markdown",
   "metadata": {},
   "source": [
    "Next we'll explore the data sets and see how many rows we have remainining for each data set. The App store data set started off with 7197 rows of data. We now have 6183 rows which means we removed 1014 rows with non-English app names. \n",
    "\n",
    "The Google Play store data set started off with 10841 rows of data. We removed one row that had a missing field leaving us with 10840 rows. We then removed 1181 duplicate rows, keeping the row with the maximum number of reviews, leaving us with 9659 rows. We now have 9614 rows which means we removed 45 rows with non-English app names. \n",
    "\n",
    "We did not remove any columns from either data sets."
   ]
  },
  {
   "cell_type": "code",
   "execution_count": 17,
   "metadata": {
    "scrolled": false
   },
   "outputs": [
    {
     "name": "stdout",
     "output_type": "stream",
     "text": [
      "['284882215', 'Facebook', '389879808', 'USD', '0.0', '2974676', '212', '3.5', '3.5', '95.0', '4+', 'Social Networking', '37', '1', '29', '1']\n",
      "\n",
      "\n",
      "['389801252', 'Instagram', '113954816', 'USD', '0.0', '2161558', '1289', '4.5', '4.0', '10.23', '12+', 'Photo & Video', '37', '0', '29', '1']\n",
      "\n",
      "\n",
      "Number of rows: 6183\n",
      "Number of columns: 16\n",
      "\n",
      "\n",
      "['Photo Editor & Candy Camera & Grid & ScrapBook', 'ART_AND_DESIGN', '4.1', '159', '19M', '10,000+', 'Free', '0', 'Everyone', 'Art & Design', 'January 7, 2018', '1.0.0', '4.0.3 and up']\n",
      "\n",
      "\n",
      "['Coloring book moana', 'ART_AND_DESIGN', '3.9', '967', '14M', '500,000+', 'Free', '0', 'Everyone', 'Art & Design;Pretend Play', 'January 15, 2018', '2.0.0', '4.0.3 and up']\n",
      "\n",
      "\n",
      "Number of rows: 9614\n",
      "Number of columns: 13\n"
     ]
    }
   ],
   "source": [
    "explore_data(apple_new,0,2,True)\n",
    "print('\\n')\n",
    "explore_data(google_new,0,2,True)"
   ]
  },
  {
   "cell_type": "markdown",
   "metadata": {},
   "source": [
    "As we mentioned in the introduction, we only build apps that are free to download and install, and our main source of revenue consists of in-app ads. Our data sets contain both free and non-free apps; we'll need to isolate only the free apps for our analysis. To do this we will loop through each data set to isolate rows with free apps in a separate list (`ios` and `android`). In the Google Play store data set, the `price` column has index 6, and free apps have a price equal to the string 'Free'. In the App store data set, the `price` column has index 4, and free apps have a price equal to the integer 0."
   ]
  },
  {
   "cell_type": "code",
   "execution_count": 18,
   "metadata": {
    "scrolled": true
   },
   "outputs": [],
   "source": [
    "ios = []\n",
    "\n",
    "for row in apple_new:\n",
    "    price = float(row[4])\n",
    "    if price == 0:\n",
    "        ios.append(row)\n",
    "\n",
    "android = []\n",
    "\n",
    "for row in google_new:\n",
    "    price = str(row[6])\n",
    "    if price == 'Free':\n",
    "         android.append(row)"
   ]
  },
  {
   "cell_type": "markdown",
   "metadata": {},
   "source": [
    "The final length of our data sets from the App store and Google Play store are 4056 and 8861 rows respectively. The lists `ios` and `android` isolate free apps from the App store and Google Play store directed toward an English-speaking audience. We can now use these lists to perform our analysis."
   ]
  },
  {
   "cell_type": "code",
   "execution_count": 19,
   "metadata": {
    "scrolled": true
   },
   "outputs": [
    {
     "name": "stdout",
     "output_type": "stream",
     "text": [
      "['284882215', 'Facebook', '389879808', 'USD', '0.0', '2974676', '212', '3.5', '3.5', '95.0', '4+', 'Social Networking', '37', '1', '29', '1']\n",
      "\n",
      "\n",
      "Number of rows: 3222\n",
      "Number of columns: 16\n",
      "\n",
      "\n",
      "['Photo Editor & Candy Camera & Grid & ScrapBook', 'ART_AND_DESIGN', '4.1', '159', '19M', '10,000+', 'Free', '0', 'Everyone', 'Art & Design', 'January 7, 2018', '1.0.0', '4.0.3 and up']\n",
      "\n",
      "\n",
      "Number of rows: 8861\n",
      "Number of columns: 13\n"
     ]
    }
   ],
   "source": [
    "explore_data(ios,0,1,True)\n",
    "print('\\n')\n",
    "explore_data(android,0,1,True)"
   ]
  },
  {
   "cell_type": "markdown",
   "metadata": {},
   "source": [
    "# Analyzing App Genres and Categories\n",
    "\n",
    "As we mentioned in the introduction, our aim is to determine the kinds of apps that are likely to attract more users because our revenue is highly influenced by the number of people using our apps.\n",
    "\n",
    "To minimize risks and overhead, our validation strategy for an app idea is comprised of three steps:\n",
    "\n",
    "1. Build a minimal Android version of the app, and add it to Google Play.\n",
    "2. If the app has a good response from users, we develop it further.\n",
    "3. If the app is profitable after six months, we build an iOS version of the app and add it to the App Store.\n",
    "\n",
    "Because our end goal is to add the app on both Google Play and the App Store, we need to find app profiles that are successful on both markets.\n",
    "\n",
    "We'll begin our analysis by getting a sense of what the most common genres are for each market. By inspecting the column definitions, the useful column in the App Store data set will be `prime_genre`. We'll use the columns `Genres` and `Category` from the Google Play Store data set. Using these columns we will generate frequency tables to determine the most common genres of app in each market.\n",
    "\n",
    "|Data Set|Column|Index|Column Definition|\n",
    "|:---|:---|:---|:---|\n",
    "|App Store|prime_genre|11|Primary Genre|\n",
    "|Google Play Store|Category|1|Category the app belongs to|\n",
    "|Google Play Store|Genres|9|An app can belong to multiple genres (apart from its main category)\n"
   ]
  },
  {
   "cell_type": "markdown",
   "metadata": {},
   "source": [
    "We'll build two functions we can use to analyze the frequency tables:\n",
    "\n",
    "- One function to generate frequency tables that show percentages\n",
    "- Another function we can use to display the percentages in a descending order\n",
    "\n",
    "The function `freq_table()` takes in two inputs: `dataset` (which is expected to be a list of lists) and `index` (which is expected to be an integer). The function returns the frequency table (as a dictionary) for any column we want. First, we find the count of each key in the dataset (which will be genre in our case), and then we divide each value at that key by the total number of apps (the length of the dataset) to express the frequency of that genre as a percentage."
   ]
  },
  {
   "cell_type": "code",
   "execution_count": 20,
   "metadata": {},
   "outputs": [],
   "source": [
    "def freq_table(dataset,index): # Dataset:a list of lists; index:integer\n",
    "    freq_dict = {}\n",
    "    for row in dataset:\n",
    "        key = row[index]\n",
    "        if key in freq_dict:\n",
    "            freq_dict[key] += 1\n",
    "        else:\n",
    "            freq_dict[key] = 1\n",
    "    for key in freq_dict:\n",
    "        freq_dict[key] /= len(dataset)\n",
    "    return freq_dict"
   ]
  },
  {
   "cell_type": "markdown",
   "metadata": {},
   "source": [
    "Next we'll define a second function to display the percentages in our frequency dictionary in a descending order. The `display_table()` function you see below:\n",
    "\n",
    "- Takes in two parameters: `dataset` and `index`. `dataset` is expected to be a list of lists, and `index` is expected to be an integer.\n",
    "- Generates a frequency table using the `freq_table()` function (defined above).\n",
    "- Transforms the frequency table into a list of tuples, then sorts the list in a descending order.\n",
    "- Prints the entries of the frequency table in descending order."
   ]
  },
  {
   "cell_type": "code",
   "execution_count": 21,
   "metadata": {},
   "outputs": [],
   "source": [
    "def display_table(dataset, index):\n",
    "    table = freq_table(dataset, index)\n",
    "    table_display = []\n",
    "    for key in table:\n",
    "        key_val_as_tuple = (table[key], key)\n",
    "        table_display.append(key_val_as_tuple)\n",
    "\n",
    "    table_sorted = sorted(table_display, reverse = True)\n",
    "    for entry in table_sorted:\n",
    "        print(entry[1], ':', entry[0])"
   ]
  },
  {
   "cell_type": "markdown",
   "metadata": {},
   "source": [
    "## Analysis of prime_genres in the App Store (English, Free)\n",
    "\n",
    "The most common `prime_genre` amoung free, English apps is 'Games' with over half of all apps falling into this genre (56%). The runner-up genre is 'Entertainment', but it is significantly less frequent and makes up just 8% of apps. The remaining 21 apps have a frequency below 4%. The top 4 genres (Games, Entertainment, Photo & Video, and Social Networking) seem to be designed for fun and pleasure versus Productivity/Utilities which we see at lower frequencies. Even though Games make up 56% of apps in the App Store, this does not necessarily mean these apps have the most users. We will look into app usage later on. Since we want to deploy our app to the Google Play store first, it's important we also take a look at the dominant genres in that market as well."
   ]
  },
  {
   "cell_type": "code",
   "execution_count": 22,
   "metadata": {},
   "outputs": [
    {
     "name": "stdout",
     "output_type": "stream",
     "text": [
      "ios prime_genre Frequency Table:\n",
      "Number of genres:  23\n",
      "\n",
      "\n",
      "Games : 0.5816263190564867\n",
      "Entertainment : 0.07883302296710118\n",
      "Photo & Video : 0.04965859714463067\n",
      "Education : 0.03662321539416512\n",
      "Social Networking : 0.032898820608317815\n",
      "Shopping : 0.0260707635009311\n",
      "Utilities : 0.025139664804469275\n",
      "Sports : 0.021415270018621976\n",
      "Music : 0.020484171322160148\n",
      "Health & Fitness : 0.020173805090006207\n",
      "Productivity : 0.01738050900062073\n",
      "Lifestyle : 0.015828677839851025\n",
      "News : 0.01334574798261949\n",
      "Travel : 0.012414649286157667\n",
      "Finance : 0.0111731843575419\n",
      "Weather : 0.008690254500310366\n",
      "Food & Drink : 0.008069522036002483\n",
      "Reference : 0.00558659217877095\n",
      "Business : 0.005276225946617008\n",
      "Book : 0.004345127250155183\n",
      "Navigation : 0.00186219739292365\n",
      "Medical : 0.00186219739292365\n",
      "Catalogs : 0.0012414649286157666\n",
      "None\n"
     ]
    }
   ],
   "source": [
    "print('ios prime_genre Frequency Table:')\n",
    "print('Number of genres: ', len(freq_table(ios,11)))\n",
    "print('\\n')\n",
    "print(display_table(ios,11))"
   ]
  },
  {
   "cell_type": "markdown",
   "metadata": {},
   "source": [
    "## Analysis of Category and Genres in the Google Play Store (English, Free)\n",
    "\n",
    "The most common app category in the Google Play Store is 'Family' with 18% of apps falling into this cateogory. Similar to the App Store `prime_genres`, after the top 3 categories, the frequency drops off to less than 4% for the remaining categories."
   ]
  },
  {
   "cell_type": "code",
   "execution_count": 23,
   "metadata": {},
   "outputs": [
    {
     "name": "stdout",
     "output_type": "stream",
     "text": [
      "Android Category Frequency Table:\n",
      "Number of Categories:  33\n",
      "\n",
      "\n",
      "FAMILY : 0.18778918857916713\n",
      "GAME : 0.09637738404243314\n",
      "TOOLS : 0.08441485159688522\n",
      "BUSINESS : 0.04581875634804198\n",
      "LIFESTYLE : 0.039047511567543165\n",
      "PRODUCTIVITY : 0.03893465748786819\n",
      "FINANCE : 0.03701613813339352\n",
      "MEDICAL : 0.03532332693826882\n",
      "SPORTS : 0.03419478614151902\n",
      "PERSONALIZATION : 0.03317909942444419\n",
      "COMMUNICATION : 0.03250197494639431\n",
      "HEALTH_AND_FITNESS : 0.03069630967159463\n",
      "PHOTOGRAPHY : 0.029454914795169845\n",
      "NEWS_AND_MAGAZINES : 0.027987811759395104\n",
      "SOCIAL : 0.02663356280329534\n",
      "TRAVEL_AND_LOCAL : 0.023360794492720913\n",
      "SHOPPING : 0.02245796185532107\n",
      "BOOKS_AND_REFERENCE : 0.021442275138246248\n",
      "DATING : 0.018620923146371742\n",
      "VIDEO_PLAYERS : 0.01783094458864688\n",
      "MAPS_AND_NAVIGATION : 0.013993905879697552\n",
      "EDUCATION : 0.012526802843922808\n",
      "FOOD_AND_DRINK : 0.012413948764247828\n",
      "ENTERTAINMENT : 0.010382575330098183\n",
      "LIBRARIES_AND_DEMO : 0.009366888613023362\n",
      "AUTO_AND_VEHICLES : 0.00925403453334838\n",
      "HOUSE_AND_HOME : 0.008351201895948538\n",
      "WEATHER : 0.008012639656923597\n",
      "EVENTS : 0.007109807019523756\n",
      "ART_AND_DESIGN : 0.006771244780498815\n",
      "PARENTING : 0.006545536621148855\n",
      "COMICS : 0.006206974382123914\n",
      "BEAUTY : 0.005981266222773954\n",
      "None\n",
      "\n",
      "\n"
     ]
    }
   ],
   "source": [
    "print('Android Category Frequency Table:')\n",
    "print('Number of Categories: ', len(freq_table(android,1)))\n",
    "print('\\n')\n",
    "print(display_table(android,1))\n",
    "print('\\n')"
   ]
  },
  {
   "cell_type": "markdown",
   "metadata": {},
   "source": [
    "Since it isn't immediately clear what kind of apps fall into the category 'Family', let's print the names of the apps with the top 10 highest number of reviews, leveraging code from the display_table function we created earlier to create a dictionary where the keys are app names, the values are the number of reviews an app has, and the dictionary is sorted in descending number of reviews. \n",
    "\n",
    "The top 10 'FAMILY' apps include mostly games, with some directed at teens like 'Clash of Clans' and 'Clash Royale', and others directed at children like 'My Talking Tom' and 'Minion Rush'."
   ]
  },
  {
   "cell_type": "code",
   "execution_count": 24,
   "metadata": {
    "scrolled": true
   },
   "outputs": [
    {
     "name": "stdout",
     "output_type": "stream",
     "text": [
      "1 . Clash of Clans\n",
      "2 . Clash Royale\n",
      "3 . Candy Crush Saga\n",
      "4 . My Talking Tom\n",
      "5 . Pou\n",
      "6 . Minion Rush: Despicable Me Official Game\n",
      "7 . Hay Day\n",
      "8 . My Talking Angela\n",
      "9 . Boom Beach\n",
      "10 . Netflix\n"
     ]
    }
   ],
   "source": [
    "categories_dict = {}\n",
    "for row in android:\n",
    "    category = str(row[1])\n",
    "    name = row[0]\n",
    "    n_reviews = float(row[3])\n",
    "    if category == 'FAMILY':\n",
    "        categories_dict[name] = n_reviews\n",
    "        \n",
    "table_display = []\n",
    "for key in categories_dict:\n",
    "    key_val_as_tuple = (categories_dict[key], key)\n",
    "    table_display.append(key_val_as_tuple)\n",
    "\n",
    "table_sorted = sorted(table_display, reverse = True)\n",
    "for entry in table_sorted:\n",
    "    entry[1], ':', entry[0] \n",
    "    \n",
    "for i in range(10):\n",
    "    print(str(i+1),'.',table_sorted[i][1])"
   ]
  },
  {
   "cell_type": "markdown",
   "metadata": {},
   "source": [
    "While there are 33 Categories of apps in the Google Play Store, there are 114 genres of app. This is because multiple genres can be used to tag an app. The number of genre combinations has driven up the number of genres for the Google Play Store to 114."
   ]
  },
  {
   "cell_type": "code",
   "execution_count": 25,
   "metadata": {
    "scrolled": false
   },
   "outputs": [
    {
     "name": "stdout",
     "output_type": "stream",
     "text": [
      "Android Genres Frequency Table:\n",
      "Number of Genres:  114\n",
      "\n",
      "\n",
      "Tools : 0.08430199751721025\n",
      "Entertainment : 0.06071549486513937\n",
      "Education : 0.05349283376594064\n",
      "Business : 0.04581875634804198\n",
      "Productivity : 0.03893465748786819\n",
      "Lifestyle : 0.03893465748786819\n",
      "Finance : 0.03701613813339352\n",
      "Medical : 0.03532332693826882\n",
      "Sports : 0.03464620246021894\n",
      "Personalization : 0.03317909942444419\n",
      "Communication : 0.03250197494639431\n",
      "Action : 0.031034871910619568\n",
      "Health & Fitness : 0.03069630967159463\n",
      "Photography : 0.029454914795169845\n",
      "News & Magazines : 0.027987811759395104\n",
      "Social : 0.02663356280329534\n",
      "Travel & Local : 0.023247940413045932\n",
      "Shopping : 0.02245796185532107\n",
      "Books & Reference : 0.021442275138246248\n",
      "Simulation : 0.020426588421171427\n",
      "Dating : 0.018620923146371742\n",
      "Arcade : 0.018620923146371742\n",
      "Video Players & Editors : 0.01783094458864688\n",
      "Casual : 0.01749238234962194\n",
      "Maps & Navigation : 0.013993905879697552\n",
      "Food & Drink : 0.012413948764247828\n",
      "Puzzle : 0.011285407967498025\n",
      "Racing : 0.009931159011398263\n",
      "Role Playing : 0.009366888613023362\n",
      "Libraries & Demo : 0.009366888613023362\n",
      "Auto & Vehicles : 0.00925403453334838\n",
      "Strategy : 0.00902832637399842\n",
      "House & Home : 0.008351201895948538\n",
      "Weather : 0.008012639656923597\n",
      "Events : 0.007109807019523756\n",
      "Adventure : 0.006771244780498815\n",
      "Comics : 0.006094120302448934\n",
      "Beauty : 0.005981266222773954\n",
      "Art & Design : 0.005981266222773954\n",
      "Parenting : 0.004965579505699131\n",
      "Card : 0.00440130910732423\n",
      "Casino : 0.004288455027649249\n",
      "Trivia : 0.004175600947974269\n",
      "Educational;Education : 0.003949892788624309\n",
      "Educational : 0.003724184629274348\n",
      "Board : 0.003724184629274348\n",
      "Education;Education : 0.0033856223902494075\n",
      "Word : 0.0025956438325245457\n",
      "Casual;Pretend Play : 0.002369935673174585\n",
      "Music : 0.0020313734341496446\n",
      "Racing;Action & Adventure : 0.0016928111951247037\n",
      "Puzzle;Brain Games : 0.0016928111951247037\n",
      "Entertainment;Music & Video : 0.0016928111951247037\n",
      "Casual;Brain Games : 0.001354248956099763\n",
      "Casual;Action & Adventure : 0.001354248956099763\n",
      "Arcade;Action & Adventure : 0.0012413948764247828\n",
      "Action;Action & Adventure : 0.0010156867170748223\n",
      "Educational;Pretend Play : 0.000902832637399842\n",
      "Board;Brain Games : 0.000902832637399842\n",
      "Simulation;Action & Adventure : 0.0007899785577248617\n",
      "Parenting;Education : 0.0007899785577248617\n",
      "Entertainment;Brain Games : 0.0007899785577248617\n",
      "Parenting;Music & Video : 0.0006771244780498814\n",
      "Educational;Brain Games : 0.0006771244780498814\n",
      "Casual;Creativity : 0.0006771244780498814\n",
      "Art & Design;Creativity : 0.0006771244780498814\n",
      "Education;Pretend Play : 0.0005642703983749013\n",
      "Role Playing;Pretend Play : 0.000451416318699921\n",
      "Education;Creativity : 0.000451416318699921\n",
      "Role Playing;Action & Adventure : 0.0003385622390249407\n",
      "Puzzle;Action & Adventure : 0.0003385622390249407\n",
      "Entertainment;Creativity : 0.0003385622390249407\n",
      "Entertainment;Action & Adventure : 0.0003385622390249407\n",
      "Educational;Creativity : 0.0003385622390249407\n",
      "Educational;Action & Adventure : 0.0003385622390249407\n",
      "Education;Music & Video : 0.0003385622390249407\n",
      "Education;Brain Games : 0.0003385622390249407\n",
      "Education;Action & Adventure : 0.0003385622390249407\n",
      "Adventure;Action & Adventure : 0.0003385622390249407\n",
      "Video Players & Editors;Music & Video : 0.0002257081593499605\n",
      "Sports;Action & Adventure : 0.0002257081593499605\n",
      "Simulation;Pretend Play : 0.0002257081593499605\n",
      "Puzzle;Creativity : 0.0002257081593499605\n",
      "Music;Music & Video : 0.0002257081593499605\n",
      "Entertainment;Pretend Play : 0.0002257081593499605\n",
      "Casual;Education : 0.0002257081593499605\n",
      "Board;Action & Adventure : 0.0002257081593499605\n",
      "Trivia;Education : 0.00011285407967498025\n",
      "Travel & Local;Action & Adventure : 0.00011285407967498025\n",
      "Tools;Education : 0.00011285407967498025\n",
      "Strategy;Education : 0.00011285407967498025\n",
      "Strategy;Creativity : 0.00011285407967498025\n",
      "Strategy;Action & Adventure : 0.00011285407967498025\n",
      "Simulation;Education : 0.00011285407967498025\n",
      "Role Playing;Brain Games : 0.00011285407967498025\n",
      "Racing;Pretend Play : 0.00011285407967498025\n",
      "Puzzle;Education : 0.00011285407967498025\n",
      "Parenting;Brain Games : 0.00011285407967498025\n",
      "Music & Audio;Music & Video : 0.00011285407967498025\n",
      "Lifestyle;Pretend Play : 0.00011285407967498025\n",
      "Lifestyle;Education : 0.00011285407967498025\n",
      "Health & Fitness;Education : 0.00011285407967498025\n",
      "Health & Fitness;Action & Adventure : 0.00011285407967498025\n",
      "Entertainment;Education : 0.00011285407967498025\n",
      "Communication;Creativity : 0.00011285407967498025\n",
      "Comics;Creativity : 0.00011285407967498025\n",
      "Casual;Music & Video : 0.00011285407967498025\n",
      "Card;Brain Games : 0.00011285407967498025\n",
      "Card;Action & Adventure : 0.00011285407967498025\n",
      "Books & Reference;Education : 0.00011285407967498025\n",
      "Art & Design;Pretend Play : 0.00011285407967498025\n",
      "Art & Design;Action & Adventure : 0.00011285407967498025\n",
      "Arcade;Pretend Play : 0.00011285407967498025\n",
      "Adventure;Education : 0.00011285407967498025\n",
      "None\n"
     ]
    }
   ],
   "source": [
    "print('Android Genres Frequency Table:')\n",
    "print('Number of Genres: ', len(freq_table(android,9)))\n",
    "print('\\n')\n",
    "print(display_table(android,9))"
   ]
  },
  {
   "cell_type": "markdown",
   "metadata": {},
   "source": [
    "The most frequent genre is 'Tools', however this genre only makes up 8% of apps. Since 'Tools' is only the third most frequent category, you may be wondering why it's the most frequent genre. One reason is that there is no genre called 'Family'. Let's print the genres of the ten most reviewed apps we listed above. The top 10 most reviewed 'FAMILY' games fall into a few different genres like 'Strategy', 'Casual', and 'Entertainment'. Since there is no genre called 'Games' (other than Brain Games), 'Family' apps end up falling into multiple genres, with children's games labelled as 'Casual' for our top 10 apps. Since we are only looking for a high-level classification of what type of app to develop, we should be ok to focus on the `Category` column instead of the `genre` column for the Google Play store data set. "
   ]
  },
  {
   "cell_type": "code",
   "execution_count": 26,
   "metadata": {
    "scrolled": false
   },
   "outputs": [
    {
     "name": "stdout",
     "output_type": "stream",
     "text": [
      "Clash of Clans : Strategy\n",
      "Clash Royale : Strategy\n",
      "Candy Crush Saga : Casual\n",
      "My Talking Tom : Casual\n",
      "Pou : Casual\n",
      "Minion Rush: Despicable Me Official Game : Casual;Action & Adventure\n",
      "Hay Day : Casual\n",
      "My Talking Angela : Casual\n",
      "Boom Beach : Strategy\n",
      "Netflix : Entertainment\n"
     ]
    }
   ],
   "source": [
    "top_10 = []\n",
    "top_10_genres = []\n",
    "\n",
    "for i in range(10):\n",
    "    top_10.append(table_sorted[i][1])\n",
    "    \n",
    "for i in range(len(top_10)):\n",
    "    for row in android:\n",
    "        name = row[0]\n",
    "        genre = row[9]\n",
    "        if top_10[i] == name:\n",
    "            top_10_genres.append(genre)\n",
    "            \n",
    "names_genres = dict(zip(top_10,top_10_genres))\n",
    "for name in names_genres:\n",
    "    print(name, \":\",names_genres[name])"
   ]
  },
  {
   "cell_type": "markdown",
   "metadata": {},
   "source": [
    "Overall, our analysis of the above frequency tables shows us that the App store landscape is dominated by Gaming apps, whereas the Google Play Store landscape has more of a spread where the most common app cateogry ('Family') only represents 18% of apps. Going forward we will use the `prime_genre` and `Category` columns from the App Store and Google Play store data, leaving out the `genre` column from the Google Play Store data because it is a bit too granular for our purposes."
   ]
  },
  {
   "cell_type": "markdown",
   "metadata": {},
   "source": [
    "## Most Popular Apps by Genre in the App Store\n",
    "\n",
    "Now, we'd like to get an idea about the kind of apps with the most users.One way to find out what genres are the most popular (have the most users) is to calculate the average number of installs for each app genre. For the Google Play data set, we can find this information in the `Installs` column, but this information is missing for the App Store data set. As a workaround, we'll take the total number of user ratings as a proxy, which we can find in the `rating_count_tot` column.\n",
    "\n",
    "Let's start with calculating the average number of user ratings per app genre in the App Store. To do that, we'll need to:\n",
    "\n",
    "- Isolate the apps of each genre.\n",
    "- Sum up the user ratings for the apps of that genre.\n",
    "- Divide the sum by the number of apps belonging to that genre\n",
    "\n",
    "We'll start by generating a frequency table for the `prime_genre` column to get the unique app genres."
   ]
  },
  {
   "cell_type": "code",
   "execution_count": 27,
   "metadata": {
    "scrolled": true
   },
   "outputs": [],
   "source": [
    "genres_dict = freq_table(ios,11)"
   ]
  },
  {
   "cell_type": "markdown",
   "metadata": {},
   "source": [
    "Below, we calculate the average number of user ratings per app genre in the App Store, saving the genres and average number of user ratings to the dictionary `genres_dict` (where the values are first the frequency of the genre app, and are then overwritten with the average user ratings). "
   ]
  },
  {
   "cell_type": "code",
   "execution_count": 28,
   "metadata": {},
   "outputs": [
    {
     "name": "stdout",
     "output_type": "stream",
     "text": [
      "Navigation : 86090.33333333333\n",
      "Reference : 74942.11111111111\n",
      "Social Networking : 71548.34905660378\n",
      "Music : 57326.530303030304\n",
      "Weather : 52279.892857142855\n",
      "Book : 39758.5\n",
      "Food & Drink : 33333.92307692308\n",
      "Finance : 31467.944444444445\n",
      "Photo & Video : 28441.54375\n",
      "Travel : 28243.8\n",
      "Shopping : 26919.690476190477\n",
      "Health & Fitness : 23298.015384615384\n",
      "Sports : 23008.898550724636\n",
      "Games : 22788.6696905016\n",
      "News : 21248.023255813954\n",
      "Productivity : 21028.410714285714\n",
      "Utilities : 18684.456790123455\n",
      "Lifestyle : 16485.764705882353\n",
      "Entertainment : 14029.830708661417\n",
      "Business : 7491.117647058823\n",
      "Education : 7003.983050847458\n",
      "Catalogs : 4004.0\n",
      "Medical : 612.0\n"
     ]
    }
   ],
   "source": [
    "for genre in genres_dict:\n",
    "    total = 0\n",
    "    len_genre = 0\n",
    "    for row in ios:\n",
    "        genre_app = row[11]\n",
    "        if genre_app == genre:\n",
    "            user_rating = float(row[5]) \n",
    "            total += user_rating\n",
    "            len_genre += 1\n",
    "    avg_user_ratings = total/len_genre\n",
    "    genres_dict[genre] = avg_user_ratings\n",
    "\n",
    "table_display = []\n",
    "for key in genres_dict:\n",
    "    key_val_as_tuple = (genres_dict[key], key)\n",
    "    table_display.append(key_val_as_tuple)\n",
    "\n",
    "table_sorted = sorted(table_display, reverse = True)\n",
    "for entry in table_sorted:\n",
    "    print(entry[1], ':', entry[0])"
   ]
  },
  {
   "cell_type": "markdown",
   "metadata": {},
   "source": [
    "The ios app genre with the highest number of average user ratings is 'Reference'. Let's take a look at the apps that fall into this category. The most popular app is the Bible, followed by apps for Dictionary.com, other religious texts, and then apps that provide reference material (for example cheat sheets) for various versions of Minecraft. Based on this data, we may want to propose creating an app that provides reference material for a particular kind of popular game, a language dictionary for travellers abroad, or some type of niche Encyclopedia."
   ]
  },
  {
   "cell_type": "code",
   "execution_count": 29,
   "metadata": {
    "scrolled": true
   },
   "outputs": [
    {
     "name": "stdout",
     "output_type": "stream",
     "text": [
      "Bible : 985920\n",
      "Dictionary.com Dictionary & Thesaurus : 200047\n",
      "Dictionary.com Dictionary & Thesaurus for iPad : 54175\n",
      "Google Translate : 26786\n",
      "Muslim Pro: Ramadan 2017 Prayer Times, Azan, Quran : 18418\n",
      "New Furniture Mods - Pocket Wiki & Game Tools for Minecraft PC Edition : 17588\n",
      "Merriam-Webster Dictionary : 16849\n",
      "Night Sky : 12122\n",
      "City Maps for Minecraft PE - The Best Maps for Minecraft Pocket Edition (MCPE) : 8535\n",
      "LUCKY BLOCK MOD ™ for Minecraft PC Edition - The Best Pocket Wiki & Mods Installer Tools : 4693\n",
      "GUNS MODS for Minecraft PC Edition - Mods Tools : 1497\n",
      "Guides for Pokémon GO - Pokemon GO News and Cheats : 826\n",
      "WWDC : 762\n",
      "Horror Maps for Minecraft PE - Download The Scariest Maps for Minecraft Pocket Edition (MCPE) Free : 718\n",
      "VPN Express : 14\n",
      "Real Bike Traffic Rider Virtual Reality Glasses : 8\n",
      "教えて!goo : 0\n",
      "Jishokun-Japanese English Dictionary & Translator : 0\n"
     ]
    }
   ],
   "source": [
    "for app in ios:\n",
    "    name = app[1]\n",
    "    ratings = app[5]\n",
    "    if app[11] == 'Reference':\n",
    "        print(name,':', ratings)"
   ]
  },
  {
   "cell_type": "markdown",
   "metadata": {},
   "source": [
    "## Most Popular Apps by Category in the Google Play Store\n",
    "\n",
    "Now let's analyze the Google Play market. We came up with an app profile recommendation for the App Store based on the number of user ratings. We have data about the number of installs for the Google Play market. The number of installs is not a precise number, but rather a rounded number that represents a 'floor' number of installs (Ex. 10,000+, 1,000,000+). Although this value isn't precise, we can still use it to determine the popularity of an app category."
   ]
  },
  {
   "cell_type": "code",
   "execution_count": 30,
   "metadata": {
    "scrolled": false
   },
   "outputs": [
    {
     "name": "stdout",
     "output_type": "stream",
     "text": [
      "1,000,000+ : 0.15754429522627242\n",
      "100,000+ : 0.11556257758717978\n",
      "10,000,000+ : 0.10506714817740662\n",
      "10,000+ : 0.1022457961855321\n",
      "1,000+ : 0.08407628935786028\n",
      "100+ : 0.0691795508407629\n",
      "5,000,000+ : 0.06816386412368808\n",
      "500,000+ : 0.055749915359440246\n",
      "50,000+ : 0.047737275702516645\n",
      "5,000+ : 0.0451416318699921\n",
      "10+ : 0.035436181017943796\n",
      "500+ : 0.03250197494639431\n",
      "50,000,000+ : 0.022796524094346012\n",
      "100,000,000+ : 0.021216566978896286\n",
      "50+ : 0.019185193544746643\n",
      "5+ : 0.007899785577248618\n",
      "1+ : 0.005078433585374111\n",
      "500,000,000+ : 0.002708497912199526\n",
      "1,000,000,000+ : 0.002257081593499605\n",
      "0+ : 0.000451416318699921\n"
     ]
    }
   ],
   "source": [
    "display_table(android,5) # The Installs column"
   ]
  },
  {
   "cell_type": "markdown",
   "metadata": {},
   "source": [
    "We're going to leave the numbers as they are, which means that we'll consider that an app with 100,000+ installs has 100,000 installs, and an app with 1,000,000+ installs has 1,000,000 installs, and so on. To perform computations, however, we'll need to convert each install number from string to float.\n",
    "\n",
    "To calculate the average number of installs per app category for the Google Play data set, we'll start by generating a frequency table for the `Category` column of the Google Play data set to get the unique app genres using the `freq_table()` function defined in a previous step of our analysis. We save the categories and average number of installs to the dictionary (where the values are first the frequency of the category app, and are then overwritten with the average number of installs).\n",
    "\n",
    "Below we see that the category with the highest average user installs is 'COMMUNICATION.'"
   ]
  },
  {
   "cell_type": "code",
   "execution_count": 31,
   "metadata": {
    "scrolled": true
   },
   "outputs": [
    {
     "name": "stdout",
     "output_type": "stream",
     "text": [
      "COMMUNICATION : 38326063.197916664\n",
      "VIDEO_PLAYERS : 24790074.17721519\n",
      "SOCIAL : 23253652.127118643\n",
      "ENTERTAINMENT : 19428913.04347826\n",
      "PHOTOGRAPHY : 17805627.643678162\n",
      "PRODUCTIVITY : 16772838.591304347\n",
      "TRAVEL_AND_LOCAL : 13984077.710144928\n",
      "GAME : 13006872.892271662\n",
      "TOOLS : 10695245.286096256\n",
      "NEWS_AND_MAGAZINES : 9549178.467741935\n",
      "BOOKS_AND_REFERENCE : 8767811.894736841\n",
      "SHOPPING : 7036877.311557789\n",
      "PERSONALIZATION : 5201482.6122448975\n",
      "WEATHER : 5074486.197183099\n",
      "FAMILY : 4374336.352163462\n",
      "SPORTS : 4274688.722772277\n",
      "HEALTH_AND_FITNESS : 4167457.3602941176\n",
      "MAPS_AND_NAVIGATION : 4056941.7741935486\n",
      "EDUCATION : 3057207.207207207\n",
      "FOOD_AND_DRINK : 1924897.7363636363\n",
      "ART_AND_DESIGN : 1905351.6666666667\n",
      "BUSINESS : 1704192.3399014778\n",
      "LIFESTYLE : 1437816.2687861272\n",
      "FINANCE : 1387692.475609756\n",
      "HOUSE_AND_HOME : 1313681.9054054054\n",
      "DATING : 854028.8303030303\n",
      "COMICS : 817657.2727272727\n",
      "AUTO_AND_VEHICLES : 647317.8170731707\n",
      "LIBRARIES_AND_DEMO : 638503.734939759\n",
      "PARENTING : 542603.6206896552\n",
      "BEAUTY : 513151.88679245283\n",
      "EVENTS : 253542.22222222222\n",
      "MEDICAL : 107167.23322683707\n"
     ]
    }
   ],
   "source": [
    "categories = freq_table(android,1)\n",
    "\n",
    "for category in categories:\n",
    "    total = 0\n",
    "    len_category = 0\n",
    "    for app in android:\n",
    "        category_app = app[1]\n",
    "        if category_app == category:\n",
    "            installs = app[5]\n",
    "            installs = installs.replace('+','')\n",
    "            installs = installs.replace(',','')\n",
    "            installs = float(installs)\n",
    "            total += installs\n",
    "            len_category += 1\n",
    "    avg_installs = total/len_category\n",
    "    categories[category] = avg_installs\n",
    "    \n",
    "table_display = []\n",
    "for key in categories:\n",
    "    key_val_as_tuple = (categories[key], key)\n",
    "    table_display.append(key_val_as_tuple)\n",
    "\n",
    "table_sorted = sorted(table_display, reverse = True)\n",
    "for entry in table_sorted:\n",
    "    print(entry[1], ':', entry[0])"
   ]
  },
  {
   "cell_type": "markdown",
   "metadata": {},
   "source": [
    "Let's take a look at the apps that fall into the 'COMMUNICATION' category. This category contains instant messaging apps, internet browsers, caller ID, and call blocking apps amoung other things. Instant messaging and internet browsers would have a long development time, and that market is already dominated by services like WhatsApp and Safari. The fourth most popular category is 'ENTERTAINMENT'. Perhaps this would go along better with the App Store genre of 'Reference', like some type of entertaining 'Reference' material."
   ]
  },
  {
   "cell_type": "code",
   "execution_count": 32,
   "metadata": {},
   "outputs": [
    {
     "name": "stdout",
     "output_type": "stream",
     "text": [
      "Messenger – Text and Video Chat for Free : 1,000,000,000+\n",
      "Messenger for SMS : 10,000,000+\n",
      "Messenger Lite: Free Calls & Messages : 100,000,000+\n",
      "Gmail : 1,000,000,000+\n",
      "Hangouts : 1,000,000,000+\n",
      "Viber Messenger : 500,000,000+\n",
      "My Tele2 : 5,000,000+\n",
      "Firefox Browser fast & private : 100,000,000+\n",
      "Yahoo Mail – Stay Organized : 100,000,000+\n",
      "imo beta free calls and text : 100,000,000+\n",
      "imo free video calls and chat : 500,000,000+\n",
      "Contacts : 50,000,000+\n",
      "Call Free – Free Call : 5,000,000+\n",
      "Web Browser & Explorer : 5,000,000+\n",
      "Opera Mini - fast web browser : 100,000,000+\n",
      "Browser 4G : 10,000,000+\n",
      "MegaFon Dashboard : 10,000,000+\n",
      "ZenUI Dialer & Contacts : 10,000,000+\n",
      "Cricket Visual Voicemail : 10,000,000+\n",
      "Opera Browser: Fast and Secure : 100,000,000+\n",
      "TracFone My Account : 1,000,000+\n",
      "Firefox Focus: The privacy browser : 1,000,000+\n",
      "Google Voice : 10,000,000+\n",
      "Chrome Dev : 5,000,000+\n",
      "Xperia Link™ : 10,000,000+\n",
      "TouchPal Keyboard - Fun Emoji & Android Keyboard : 10,000,000+\n",
      "Who : 100,000,000+\n",
      "Skype Lite - Free Video Call & Chat : 5,000,000+\n",
      "WeChat : 100,000,000+\n",
      "UC Browser Mini -Tiny Fast Private & Secure : 100,000,000+\n",
      "WhatsApp Business : 10,000,000+\n",
      "My magenta : 1,000,000+\n",
      "Android Messages : 100,000,000+\n",
      "Telegram : 100,000,000+\n",
      "Google Duo - High Quality Video Calls : 500,000,000+\n",
      "Puffin Web Browser : 10,000,000+\n",
      "Seznam.cz : 1,000,000+\n",
      "Antillean Gold Telegram (original version) : 100,000+\n",
      "AT&T Visual Voicemail : 10,000,000+\n",
      "GMX Mail : 10,000,000+\n",
      "Omlet Chat : 10,000,000+\n",
      "UC Browser - Fast Download Private & Secure : 500,000,000+\n",
      "My Vodacom SA : 5,000,000+\n",
      "Hangouts Dialer - Call Phones : 10,000,000+\n",
      "Talkatone: Free Texts, Calls & Phone Number : 10,000,000+\n",
      "Calls & Text by Mo+ : 5,000,000+\n",
      "Skype - free IM & video calls : 1,000,000,000+\n",
      "GO SMS Pro - Messenger, Free Themes, Emoji : 100,000,000+\n",
      "Messaging+ SMS, MMS Free : 1,000,000+\n",
      "chomp SMS : 10,000,000+\n",
      "Glide - Video Chat Messenger : 10,000,000+\n",
      "Text SMS : 10,000,000+\n",
      "Talkray - Free Calls & Texts : 10,000,000+\n",
      "GroupMe : 10,000,000+\n",
      "mysms SMS Text Messaging Sync : 1,000,000+\n",
      "BBM - Free Calls & Messages : 100,000,000+\n",
      "KakaoTalk: Free Calls & Text : 100,000,000+\n",
      "2ndLine - Second Phone Number : 1,000,000+\n",
      "Google Allo : 10,000,000+\n",
      "CM Browser - Ad Blocker , Fast Download , Privacy : 50,000,000+\n",
      "Ninesky Browser : 1,000,000+\n",
      "Dolphin Browser - Fast, Private & Adblock🐬 : 50,000,000+\n",
      "Ghostery Privacy Browser : 1,000,000+\n",
      "InBrowser - Incognito Browsing : 1,000,000+\n",
      "Web Browser for Android : 1,000,000+\n",
      "DU Browser—Browse fast & fun : 10,000,000+\n",
      "Lightning Web Browser : 500,000+\n",
      "Web Browser : 500,000+\n",
      "Contacts+ : 10,000,000+\n",
      "ExDialer - Dialer & Contacts : 10,000,000+\n",
      "PHONE for Google Voice & GTalk : 1,000,000+\n",
      "Safest Call Blocker : 1,000,000+\n",
      "Full Screen Caller ID : 5,000,000+\n",
      "Hiya - Caller ID & Block : 10,000,000+\n",
      "Call Blocker : 1,000,000+\n",
      "Mr. Number-Block calls & spam : 10,000,000+\n",
      "Should I Answer? : 1,000,000+\n",
      "RocketDial Dialer & Contacts : 1,000,000+\n",
      "CallApp: Caller ID, Blocker & Phone Call Recorder : 10,000,000+\n",
      "Whoscall - Caller ID & Block : 10,000,000+\n",
      "CIA - Caller ID & Call Blocker : 5,000,000+\n",
      "Calls Blacklist - Call Blocker : 10,000,000+\n",
      "Call Control - Call Blocker : 5,000,000+\n",
      "True Contact - Real Caller ID : 1,000,000+\n",
      "Video Caller Id : 1,000,000+\n",
      "Sync.ME – Caller ID & Block : 5,000,000+\n",
      "Burner - Free Phone Number : 1,000,000+\n",
      "Truecaller: Caller ID, SMS spam blocking & Dialer : 100,000,000+\n",
      "Caller ID + : 1,000,000+\n",
      "K-9 Mail : 5,000,000+\n",
      "myMail – Email for Hotmail, Gmail and Outlook Mail : 10,000,000+\n",
      "Email TypeApp - Mail App : 1,000,000+\n",
      "All Email Providers : 1,000,000+\n",
      "Newton Mail - Email App for Gmail, Outlook, IMAP : 1,000,000+\n",
      "GO Notifier : 10,000,000+\n",
      "Mail.Ru - Email App : 50,000,000+\n",
      "Mail1Click - Secure Mail : 10,000+\n",
      "Daum Mail - Next Mail : 5,000,000+\n",
      "mail.com mail : 1,000,000+\n",
      "SolMail - All-in-One email app : 500,000+\n",
      "Vonage Mobile® Call Video Text : 1,000,000+\n",
      "JusTalk - Free Video Calls and Fun Video Chat : 5,000,000+\n",
      "Azar : 50,000,000+\n",
      "LokLok: Draw on a Lock Screen : 500,000+\n",
      "WhatsApp Messenger : 1,000,000,000+\n",
      "Google Chrome: Fast & Secure : 1,000,000,000+\n",
      "Discord - Chat for Gamers : 10,000,000+\n",
      "Microsoft Edge : 5,000,000+\n",
      "LINE: Free Calls & Messages : 500,000,000+\n",
      "AntennaPict β : 1,000,000+\n",
      "free video calls and chat : 50,000,000+\n",
      "Kik : 100,000,000+\n",
      "K-@ Mail - Email App : 100,000+\n",
      "K-9 Material (unofficial) : 5,000+\n",
      "M star Dialer : 100,000+\n",
      "Free WiFi Connect : 10,000,000+\n",
      "m:go BiH : 10,000+\n",
      "N-Com Wizard : 50,000+\n",
      "Opera Mini browser beta : 10,000,000+\n",
      "Psiphon Pro - The Internet Freedom VPN : 10,000,000+\n",
      "ICQ — Video Calls & Chat Messenger : 10,000,000+\n",
      "AT&T Messages for Tablet : 1,000,000+\n",
      "T-Mobile DIGITS : 100,000+\n",
      "Portable Wi-Fi hotspot : 10,000,000+\n",
      "AT&T Call Protect : 5,000,000+\n",
      "U - Webinars, Meetings & Messenger : 500,000+\n",
      "/u/app : 10,000+\n",
      "[verify-U] VideoIdent : 10,000+\n",
      "WhatsCall Free Global Phone Call App & Cheap Calls : 10,000,000+\n",
      "X Browser : 50,000+\n",
      "Free Adblocker Browser - Adblock & Popup Blocker : 10,000,000+\n",
      "Adblock Browser for Android : 10,000,000+\n",
      "Adblock Plus for Samsung Internet - Browse safe. : 1,000,000+\n",
      "Ad Blocker Turbo - Adblocker Browser : 10,000+\n",
      "Brave Browser: Fast AdBlocker : 5,000,000+\n",
      "AG Contacts, Lite edition : 5,000+\n",
      "Oklahoma Ag Co-op Council : 10+\n",
      "Bee'ah Employee App : 100+\n",
      "tournaments and more.aj.2 : 100+\n",
      "Aj.Petra : 100+\n",
      "AK Phone : 5,000+\n",
      "PlacarTv Futebol Ao Vivo : 100,000+\n",
      "WiFi Access Point (hotspot) : 100,000+\n",
      "Access Point Names : 10,000+\n",
      "ClanHQ : 10,000+\n",
      "Ear Agent: Super Hearing : 5,000,000+\n",
      "AU Call Blocker - Block Unwanted Calls Texts 2018 : 1,000+\n",
      "Baby Monitor AV : 100,000+\n",
      "AV Phone : 1,000+\n",
      "AW - free video calls and chat : 1,000,000+\n",
      "Katalogen.ax : 100+\n",
      "AZ Browser. Private & Download : 100,000+\n",
      "BA SALES : 1+\n",
      "BD Data Plan (3G & 4G) : 500,000+\n",
      "BD Internet Packages (Updated) : 50,000+\n",
      "BD Dialer : 10,000+\n",
      "BD Live Call : 5,000+\n",
      "Best Browser BD social networking : 10+\n",
      "Traffic signs BD : 500+\n",
      "BF Browser by Betfilter - Stop Gambling Today! : 10,000+\n",
      "My BF App : 50,000+\n",
      "BH Mail : 1,000+\n",
      "Zalo – Video Call : 50,000,000+\n",
      "BJ - Confidential : 10+\n",
      "BK Chat : 1,000+\n",
      "Of the wall Arapaho bk : 5+\n",
      "AC-BL : 50+\n",
      "DMR BrandMeister Tool : 10,000+\n",
      "BBMoji - Your personalized BBM Stickers : 1,000,000+\n",
      "BN MALLORCA Radio : 1,000+\n",
      "BQ Partners : 1,000+\n",
      "BS-Mobile : 50+\n",
      "ATC Unico BS : 500+\n",
      "BT One Voice mobile access : 5,000+\n",
      "BT Messenger : 50,000+\n",
      "BT One Phone Mobile App : 10,000+\n",
      "SW-100.tch by Callstel : 1,000,000+\n",
      "BT MeetMe with Dolby Voice : 100,000+\n",
      "Bluetooth Auto Connect : 5,000,000+\n",
      "AudioBT: BT audio GPS/SMS/Text : 50,000+\n",
      "BV : 100+\n",
      "Feel Performer : 10,000+\n",
      "Tiny Call Confirm : 1,000,000+\n",
      "CB Radio Chat - for friends! : 1,000,000+\n",
      "CB On Mobile : 100,000+\n",
      "Virtual Walkie Talkie : 1,000,000+\n",
      "Channel 19 : 100,000+\n",
      "Cb browser : 50+\n",
      "CF Chat: Connecting Friends : 100+\n",
      "retteMi.ch : 5,000+\n",
      "CJ Browser - Fast & Private : 100+\n",
      "CJ DVD Rentals : 100+\n",
      "CK Call NEW : 10+\n",
      "CM Transfer - Share any files with friends nearby : 5,000,000+\n",
      "mail.co.uk Mail : 5,000+\n",
      "ClanPlay: Community and Tools for Gamers : 1,000,000+\n",
      "CQ-Mobile : 1,000+\n",
      "CQ-Alert : 500+\n",
      "QRZ Assistant : 100,000+\n",
      "Pocket Prefix Plus : 10,000+\n",
      "Ham Radio Prefixes : 10,000+\n",
      "CS Customizer : 1,000+\n",
      "CS Browser | #1 & BEST BROWSER : 1,000+\n",
      "CS Browser Beta : 5,000+\n",
      "My Vodafone (GR) : 1,000,000+\n",
      "IZ2UUF Morse Koch CW : 50,000+\n",
      "C W Browser : 100+\n",
      "CW Bluetooth SPP : 100+\n",
      "CW BLE Peripheral Simulator : 500+\n",
      "Morse Code Reader : 100,000+\n",
      "Learn Morse Code - G0HYN Learn Morse : 5,000+\n",
      "Ring : 10,000+\n",
      "Hyundai CX Conference : 50+\n",
      "Cy Messenger : 100+\n",
      "Amadeus GR & CY : 100+\n",
      "Hlášenírozhlasu.cz : 10+\n",
      "SMS Sender - sluzba.cz : 1,000+\n",
      "WEB.DE Mail : 10,000,000+\n",
      "Your Freedom VPN Client : 5,000,000+\n",
      "Rádio Sol Nascente DF : 500+\n",
      "DG Card : 100+\n",
      "DK Browser : 10+\n",
      "cluster.dk : 1,000+\n",
      "DK TEL Dialer : 50+\n",
      "DM for WhatsApp : 5,000+\n",
      "DM Talk New : 5,000+\n",
      "DM - The Offical Messaging App : 10+\n",
      "DM Tracker : 1,000+\n",
      "Call Blocker & Blacklist : 1,000+\n",
      "ReadyOp DT : 1,000+\n",
      "Caller ID & Call Block - DU Caller : 5,000,000+\n",
      "BlueDV AMBE : 1,000+\n",
      "DW Contacts & Phone & Dialer : 1,000,000+\n",
      "Deaf World DW : 10,000+\n",
      "Ham DX Cluster & Spots Finder : 5,000+\n",
      "Mircules DX Cluster Lite : 5,000+\n",
      "3G DZ Configuration : 50,000+\n",
      "chat dz : 100+\n",
      "love sms good morning : 5,000+\n",
      "Goodbox - Mega App : 100,000+\n",
      "Call Blocker - Blacklist, SMS Blocker : 1,000,000+\n",
      "[EF]ShoutBox : 100+\n",
      "Eg Call : 10,000+\n",
      "ei : 10+\n",
      "EJ messenger : 10+\n",
      "Ek IRA : 10+\n",
      "Orfox: Tor Browser for Android : 10,000,000+\n",
      "EO Mumbai : 10+\n",
      "EP RSS Reader : 100+\n",
      "Voxer Walkie Talkie Messenger : 10,000,000+\n",
      "ES-1 : 500+\n",
      "EU Council : 1,000+\n",
      "Council Voting Calculator : 5,000+\n",
      "Have your say on Europe : 500+\n",
      "Programi podrške EU : 100+\n",
      "Inbox.eu : 10,000+\n",
      "Everbridge : 100,000+\n",
      "Best Auto Call Recorder Free : 500+\n",
      "EZ Wifi Notification : 10,000+\n",
      "Test Server SMS FA : 5+\n",
      "Lite for Facebook Messenger : 1,000,000+\n",
      "FC Browser - Focus Privacy Browser : 1,000+\n",
      "EHiN-FH conferenceapp : 100+\n",
      "Carpooling FH Hagenberg : 100+\n",
      "Wi-Fi Auto-connect : 1,000,000+\n",
      "Talkie - Wi-Fi Calling, Chats, File Sharing : 500,000+\n",
      "WeFi - Free Fast WiFi Connect & Find Wi-Fi Map : 1,000,000+\n",
      "Sat-Fi : 5,000+\n",
      "Portable Wi-Fi hotspot Free : 100,000+\n",
      "TownWiFi | Wi-Fi Everywhere : 500,000+\n",
      "Jazz Wi-Fi : 10,000+\n",
      "Sat-Fi Voice : 1,000+\n",
      "Free Wi-fi HotspoT : 50,000+\n",
      "FN Web Radio : 10+\n",
      "FNH Payment Info : 10+\n",
      "MARKET FO : 100+\n",
      "FO OP St-Nazaire : 100+\n",
      "FO SODEXO : 100+\n",
      "FO RCBT : 100+\n",
      "FO Interim : 100+\n",
      "FO PSA Sept-Fons : 100+\n",
      "FO AIRBUS TLSE : 1,000+\n",
      "FO STELIA Méaulte : 100+\n",
      "FO AIRBUS Nantes : 100+\n",
      "FP Connect : 100+\n",
      "FreedomPop Messaging Phone/SIM : 500,000+\n",
      "FP Live : 10+\n",
      "HipChat - beta version : 50,000+\n"
     ]
    }
   ],
   "source": [
    "for app in android:\n",
    "    name = app[0]\n",
    "    installs = app[5]\n",
    "    if app[1] == 'COMMUNICATION':\n",
    "        print(name,':', installs)"
   ]
  },
  {
   "cell_type": "markdown",
   "metadata": {},
   "source": [
    "Some of the facts we know right now are that:\n",
    "\n",
    "- 'Reference' apps have the highest average number of user ratings in the App Store, followed by Music, Social Networking, and Weather.\n",
    "\n",
    "- 'Communication' apps have the highest average number of installs in the Google Play store, followed by Video Players, Social, and Entertainment apps.\n",
    "\n",
    "At this stage I like the profile of an Entertainment/Reference app. As mentioned in our introduction, since this app is free, our revenue source is in-app ads viewed by the user. An interesting [study](https://www.bankmycell.com/blog/cell-phone-usage-in-toilet-survey) by BankMyCell suggests that 3 in 4 Americans admit to using their phone whilst on the toilet. Also 88% of Android owners and 76% of iPhone owners use their device on the toilet. Based on these stats along with the data we have analyzed, the app we decide to pitch is called 'Toilet Trivia'. It is an app that will tell you entertaining fun facts while you're on the toilet. The app might also include trivia quizzes to make it more engaging. This type of app would result in users spending time in the app (depending on how long they're in the bathroom). While people surveyed in the BankMyCell study listed using social media, messaging, listening to music, watching videos, and mobile gaming as activities they do while on the toilet, a trivia app might put a more productive spin on this time, and therefore might be appealing to users who want to do something less mindless.\n",
    "\n",
    "# Conclusion\n",
    "In this project, we analyzed data about the App Store and Google Play mobile apps with the goal of recommending an app profile that can be profitable for both markets.\n",
    "\n",
    "When we combined our analysis with a study that found that 88% of Android owners and 76% of iPhone owners use their device on the toilet, we decided on creating an app called \"Toilet Trivia\" with fun facts and trivia quizzes meant to be used while in the loo could be profitable for both the Google Play and the App Store markets."
   ]
  }
 ],
 "metadata": {
  "kernelspec": {
   "display_name": "Python 3",
   "language": "python",
   "name": "python3"
  },
  "language_info": {
   "codemirror_mode": {
    "name": "ipython",
    "version": 3
   },
   "file_extension": ".py",
   "mimetype": "text/x-python",
   "name": "python",
   "nbconvert_exporter": "python",
   "pygments_lexer": "ipython3",
   "version": "3.8.3"
  }
 },
 "nbformat": 4,
 "nbformat_minor": 4
}
